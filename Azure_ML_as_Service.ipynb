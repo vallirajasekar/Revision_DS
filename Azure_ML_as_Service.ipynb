{
  "nbformat": 4,
  "nbformat_minor": 0,
  "metadata": {
    "colab": {
      "provenance": [],
      "toc_visible": true,
      "authorship_tag": "ABX9TyOtBnUP34DjKGQQYTeP6kdT",
      "include_colab_link": true
    },
    "kernelspec": {
      "name": "python3",
      "display_name": "Python 3"
    },
    "language_info": {
      "name": "python"
    }
  },
  "cells": [
    {
      "cell_type": "markdown",
      "metadata": {
        "id": "view-in-github",
        "colab_type": "text"
      },
      "source": [
        "<a href=\"https://colab.research.google.com/github/vallirajasekar/Revision_DS/blob/main/Azure_ML_as_Service.ipynb\" target=\"_parent\"><img src=\"https://colab.research.google.com/assets/colab-badge.svg\" alt=\"Open In Colab\"/></a>"
      ]
    },
    {
      "cell_type": "code",
      "execution_count": null,
      "metadata": {
        "id": "BnsaSFOHieHc"
      },
      "outputs": [],
      "source": [
        "#pip install azureml-sdk"
      ]
    },
    {
      "cell_type": "code",
      "source": [
        "from azureml.core import Workspace,Datastore,Dataset"
      ],
      "metadata": {
        "id": "sh6fvCp7isIZ"
      },
      "execution_count": null,
      "outputs": []
    },
    {
      "cell_type": "code",
      "source": [
        "ws=Workspace.from_config(path='/content/config (1).json',)"
      ],
      "metadata": {
        "id": "LDpnieuPi31Z"
      },
      "execution_count": null,
      "outputs": []
    },
    {
      "cell_type": "code",
      "source": [
        "az_dstore=Datastore.get(workspace=ws,datastore_name='azureml_sdk_blob')"
      ],
      "metadata": {
        "id": "UpNmSNYQwncZ"
      },
      "execution_count": null,
      "outputs": []
    },
    {
      "cell_type": "code",
      "source": [
        "az_dataset=Dataset.get_by_name(workspace=ws,name='Churn_Modelling Data SDK')"
      ],
      "metadata": {
        "id": "bDDWLAPwwnfs"
      },
      "execution_count": null,
      "outputs": []
    },
    {
      "cell_type": "code",
      "source": [
        "df=az_dataset.to_pandas_dataframe()"
      ],
      "metadata": {
        "colab": {
          "base_uri": "https://localhost:8080/"
        },
        "id": "cXltXmRZwnij",
        "outputId": "e567956a-4dc1-4ecd-871a-abae94ad8217"
      },
      "execution_count": null,
      "outputs": [
        {
          "output_type": "stream",
          "name": "stdout",
          "text": [
            "{'infer_column_types': 'False', 'activity': 'to_pandas_dataframe'}\n",
            "{'infer_column_types': 'False', 'activity': 'to_pandas_dataframe', 'activityApp': 'TabularDataset'}\n"
          ]
        }
      ]
    },
    {
      "cell_type": "code",
      "source": [
        "df.columns"
      ],
      "metadata": {
        "colab": {
          "base_uri": "https://localhost:8080/"
        },
        "id": "JG2246Rxwnla",
        "outputId": "9863ef7e-8171-45ca-9e8e-2a3a3309abe9"
      },
      "execution_count": null,
      "outputs": [
        {
          "output_type": "execute_result",
          "data": {
            "text/plain": [
              "Index(['RowNumber', 'CustomerId', 'Surname', 'CreditScore', 'Geography',\n",
              "       'Gender', 'Age', 'Tenure', 'Balance', 'NumOfProducts', 'HasCrCard',\n",
              "       'IsActiveMember', 'EstimatedSalary', 'Exited'],\n",
              "      dtype='object')"
            ]
          },
          "metadata": {},
          "execution_count": 55
        }
      ]
    },
    {
      "cell_type": "code",
      "source": [
        "df_sub=df[['RowNumber', 'CustomerId', 'Surname', 'CreditScore']]"
      ],
      "metadata": {
        "id": "AJv5IiiTwnoB"
      },
      "execution_count": null,
      "outputs": []
    },
    {
      "cell_type": "code",
      "source": [
        "df_sub.head()"
      ],
      "metadata": {
        "colab": {
          "base_uri": "https://localhost:8080/",
          "height": 206
        },
        "id": "ZVXc4mL3zUQe",
        "outputId": "c3c35881-2e8f-427c-e43a-f2f845f69437"
      },
      "execution_count": null,
      "outputs": [
        {
          "output_type": "execute_result",
          "data": {
            "text/plain": [
              "   RowNumber  CustomerId   Surname  CreditScore\n",
              "0          1    15634602  Hargrave          619\n",
              "1          2    15647311      Hill          608\n",
              "2          3    15619304      Onio          502\n",
              "3          4    15701354      Boni          699\n",
              "4          5    15737888  Mitchell          850"
            ],
            "text/html": [
              "\n",
              "  <div id=\"df-9996dd62-b26d-4685-9105-a871c5ee375b\" class=\"colab-df-container\">\n",
              "    <div>\n",
              "<style scoped>\n",
              "    .dataframe tbody tr th:only-of-type {\n",
              "        vertical-align: middle;\n",
              "    }\n",
              "\n",
              "    .dataframe tbody tr th {\n",
              "        vertical-align: top;\n",
              "    }\n",
              "\n",
              "    .dataframe thead th {\n",
              "        text-align: right;\n",
              "    }\n",
              "</style>\n",
              "<table border=\"1\" class=\"dataframe\">\n",
              "  <thead>\n",
              "    <tr style=\"text-align: right;\">\n",
              "      <th></th>\n",
              "      <th>RowNumber</th>\n",
              "      <th>CustomerId</th>\n",
              "      <th>Surname</th>\n",
              "      <th>CreditScore</th>\n",
              "    </tr>\n",
              "  </thead>\n",
              "  <tbody>\n",
              "    <tr>\n",
              "      <th>0</th>\n",
              "      <td>1</td>\n",
              "      <td>15634602</td>\n",
              "      <td>Hargrave</td>\n",
              "      <td>619</td>\n",
              "    </tr>\n",
              "    <tr>\n",
              "      <th>1</th>\n",
              "      <td>2</td>\n",
              "      <td>15647311</td>\n",
              "      <td>Hill</td>\n",
              "      <td>608</td>\n",
              "    </tr>\n",
              "    <tr>\n",
              "      <th>2</th>\n",
              "      <td>3</td>\n",
              "      <td>15619304</td>\n",
              "      <td>Onio</td>\n",
              "      <td>502</td>\n",
              "    </tr>\n",
              "    <tr>\n",
              "      <th>3</th>\n",
              "      <td>4</td>\n",
              "      <td>15701354</td>\n",
              "      <td>Boni</td>\n",
              "      <td>699</td>\n",
              "    </tr>\n",
              "    <tr>\n",
              "      <th>4</th>\n",
              "      <td>5</td>\n",
              "      <td>15737888</td>\n",
              "      <td>Mitchell</td>\n",
              "      <td>850</td>\n",
              "    </tr>\n",
              "  </tbody>\n",
              "</table>\n",
              "</div>\n",
              "    <div class=\"colab-df-buttons\">\n",
              "\n",
              "  <div class=\"colab-df-container\">\n",
              "    <button class=\"colab-df-convert\" onclick=\"convertToInteractive('df-9996dd62-b26d-4685-9105-a871c5ee375b')\"\n",
              "            title=\"Convert this dataframe to an interactive table.\"\n",
              "            style=\"display:none;\">\n",
              "\n",
              "  <svg xmlns=\"http://www.w3.org/2000/svg\" height=\"24px\" viewBox=\"0 -960 960 960\">\n",
              "    <path d=\"M120-120v-720h720v720H120Zm60-500h600v-160H180v160Zm220 220h160v-160H400v160Zm0 220h160v-160H400v160ZM180-400h160v-160H180v160Zm440 0h160v-160H620v160ZM180-180h160v-160H180v160Zm440 0h160v-160H620v160Z\"/>\n",
              "  </svg>\n",
              "    </button>\n",
              "\n",
              "  <style>\n",
              "    .colab-df-container {\n",
              "      display:flex;\n",
              "      gap: 12px;\n",
              "    }\n",
              "\n",
              "    .colab-df-convert {\n",
              "      background-color: #E8F0FE;\n",
              "      border: none;\n",
              "      border-radius: 50%;\n",
              "      cursor: pointer;\n",
              "      display: none;\n",
              "      fill: #1967D2;\n",
              "      height: 32px;\n",
              "      padding: 0 0 0 0;\n",
              "      width: 32px;\n",
              "    }\n",
              "\n",
              "    .colab-df-convert:hover {\n",
              "      background-color: #E2EBFA;\n",
              "      box-shadow: 0px 1px 2px rgba(60, 64, 67, 0.3), 0px 1px 3px 1px rgba(60, 64, 67, 0.15);\n",
              "      fill: #174EA6;\n",
              "    }\n",
              "\n",
              "    .colab-df-buttons div {\n",
              "      margin-bottom: 4px;\n",
              "    }\n",
              "\n",
              "    [theme=dark] .colab-df-convert {\n",
              "      background-color: #3B4455;\n",
              "      fill: #D2E3FC;\n",
              "    }\n",
              "\n",
              "    [theme=dark] .colab-df-convert:hover {\n",
              "      background-color: #434B5C;\n",
              "      box-shadow: 0px 1px 3px 1px rgba(0, 0, 0, 0.15);\n",
              "      filter: drop-shadow(0px 1px 2px rgba(0, 0, 0, 0.3));\n",
              "      fill: #FFFFFF;\n",
              "    }\n",
              "  </style>\n",
              "\n",
              "    <script>\n",
              "      const buttonEl =\n",
              "        document.querySelector('#df-9996dd62-b26d-4685-9105-a871c5ee375b button.colab-df-convert');\n",
              "      buttonEl.style.display =\n",
              "        google.colab.kernel.accessAllowed ? 'block' : 'none';\n",
              "\n",
              "      async function convertToInteractive(key) {\n",
              "        const element = document.querySelector('#df-9996dd62-b26d-4685-9105-a871c5ee375b');\n",
              "        const dataTable =\n",
              "          await google.colab.kernel.invokeFunction('convertToInteractive',\n",
              "                                                    [key], {});\n",
              "        if (!dataTable) return;\n",
              "\n",
              "        const docLinkHtml = 'Like what you see? Visit the ' +\n",
              "          '<a target=\"_blank\" href=https://colab.research.google.com/notebooks/data_table.ipynb>data table notebook</a>'\n",
              "          + ' to learn more about interactive tables.';\n",
              "        element.innerHTML = '';\n",
              "        dataTable['output_type'] = 'display_data';\n",
              "        await google.colab.output.renderOutput(dataTable, element);\n",
              "        const docLink = document.createElement('div');\n",
              "        docLink.innerHTML = docLinkHtml;\n",
              "        element.appendChild(docLink);\n",
              "      }\n",
              "    </script>\n",
              "  </div>\n",
              "\n",
              "\n",
              "<div id=\"df-eb91a44c-1b5e-4dcf-af62-7b54db84e52f\">\n",
              "  <button class=\"colab-df-quickchart\" onclick=\"quickchart('df-eb91a44c-1b5e-4dcf-af62-7b54db84e52f')\"\n",
              "            title=\"Suggest charts\"\n",
              "            style=\"display:none;\">\n",
              "\n",
              "<svg xmlns=\"http://www.w3.org/2000/svg\" height=\"24px\"viewBox=\"0 0 24 24\"\n",
              "     width=\"24px\">\n",
              "    <g>\n",
              "        <path d=\"M19 3H5c-1.1 0-2 .9-2 2v14c0 1.1.9 2 2 2h14c1.1 0 2-.9 2-2V5c0-1.1-.9-2-2-2zM9 17H7v-7h2v7zm4 0h-2V7h2v10zm4 0h-2v-4h2v4z\"/>\n",
              "    </g>\n",
              "</svg>\n",
              "  </button>\n",
              "\n",
              "<style>\n",
              "  .colab-df-quickchart {\n",
              "      --bg-color: #E8F0FE;\n",
              "      --fill-color: #1967D2;\n",
              "      --hover-bg-color: #E2EBFA;\n",
              "      --hover-fill-color: #174EA6;\n",
              "      --disabled-fill-color: #AAA;\n",
              "      --disabled-bg-color: #DDD;\n",
              "  }\n",
              "\n",
              "  [theme=dark] .colab-df-quickchart {\n",
              "      --bg-color: #3B4455;\n",
              "      --fill-color: #D2E3FC;\n",
              "      --hover-bg-color: #434B5C;\n",
              "      --hover-fill-color: #FFFFFF;\n",
              "      --disabled-bg-color: #3B4455;\n",
              "      --disabled-fill-color: #666;\n",
              "  }\n",
              "\n",
              "  .colab-df-quickchart {\n",
              "    background-color: var(--bg-color);\n",
              "    border: none;\n",
              "    border-radius: 50%;\n",
              "    cursor: pointer;\n",
              "    display: none;\n",
              "    fill: var(--fill-color);\n",
              "    height: 32px;\n",
              "    padding: 0;\n",
              "    width: 32px;\n",
              "  }\n",
              "\n",
              "  .colab-df-quickchart:hover {\n",
              "    background-color: var(--hover-bg-color);\n",
              "    box-shadow: 0 1px 2px rgba(60, 64, 67, 0.3), 0 1px 3px 1px rgba(60, 64, 67, 0.15);\n",
              "    fill: var(--button-hover-fill-color);\n",
              "  }\n",
              "\n",
              "  .colab-df-quickchart-complete:disabled,\n",
              "  .colab-df-quickchart-complete:disabled:hover {\n",
              "    background-color: var(--disabled-bg-color);\n",
              "    fill: var(--disabled-fill-color);\n",
              "    box-shadow: none;\n",
              "  }\n",
              "\n",
              "  .colab-df-spinner {\n",
              "    border: 2px solid var(--fill-color);\n",
              "    border-color: transparent;\n",
              "    border-bottom-color: var(--fill-color);\n",
              "    animation:\n",
              "      spin 1s steps(1) infinite;\n",
              "  }\n",
              "\n",
              "  @keyframes spin {\n",
              "    0% {\n",
              "      border-color: transparent;\n",
              "      border-bottom-color: var(--fill-color);\n",
              "      border-left-color: var(--fill-color);\n",
              "    }\n",
              "    20% {\n",
              "      border-color: transparent;\n",
              "      border-left-color: var(--fill-color);\n",
              "      border-top-color: var(--fill-color);\n",
              "    }\n",
              "    30% {\n",
              "      border-color: transparent;\n",
              "      border-left-color: var(--fill-color);\n",
              "      border-top-color: var(--fill-color);\n",
              "      border-right-color: var(--fill-color);\n",
              "    }\n",
              "    40% {\n",
              "      border-color: transparent;\n",
              "      border-right-color: var(--fill-color);\n",
              "      border-top-color: var(--fill-color);\n",
              "    }\n",
              "    60% {\n",
              "      border-color: transparent;\n",
              "      border-right-color: var(--fill-color);\n",
              "    }\n",
              "    80% {\n",
              "      border-color: transparent;\n",
              "      border-right-color: var(--fill-color);\n",
              "      border-bottom-color: var(--fill-color);\n",
              "    }\n",
              "    90% {\n",
              "      border-color: transparent;\n",
              "      border-bottom-color: var(--fill-color);\n",
              "    }\n",
              "  }\n",
              "</style>\n",
              "\n",
              "  <script>\n",
              "    async function quickchart(key) {\n",
              "      const quickchartButtonEl =\n",
              "        document.querySelector('#' + key + ' button');\n",
              "      quickchartButtonEl.disabled = true;  // To prevent multiple clicks.\n",
              "      quickchartButtonEl.classList.add('colab-df-spinner');\n",
              "      try {\n",
              "        const charts = await google.colab.kernel.invokeFunction(\n",
              "            'suggestCharts', [key], {});\n",
              "      } catch (error) {\n",
              "        console.error('Error during call to suggestCharts:', error);\n",
              "      }\n",
              "      quickchartButtonEl.classList.remove('colab-df-spinner');\n",
              "      quickchartButtonEl.classList.add('colab-df-quickchart-complete');\n",
              "    }\n",
              "    (() => {\n",
              "      let quickchartButtonEl =\n",
              "        document.querySelector('#df-eb91a44c-1b5e-4dcf-af62-7b54db84e52f button');\n",
              "      quickchartButtonEl.style.display =\n",
              "        google.colab.kernel.accessAllowed ? 'block' : 'none';\n",
              "    })();\n",
              "  </script>\n",
              "</div>\n",
              "\n",
              "    </div>\n",
              "  </div>\n"
            ]
          },
          "metadata": {},
          "execution_count": 58
        }
      ]
    },
    {
      "cell_type": "code",
      "source": [
        "az_dataset_from_df=Dataset.Tabular.register_pandas_dataframe(dataframe=df_sub,target=az_dstore,name='Churn Dataset from DF')"
      ],
      "metadata": {
        "colab": {
          "base_uri": "https://localhost:8080/"
        },
        "id": "9U_RI3imwnq4",
        "outputId": "2e34b605-b595-4b2b-89cc-50577d31497a"
      },
      "execution_count": null,
      "outputs": [
        {
          "output_type": "stream",
          "name": "stdout",
          "text": [
            "Validating arguments.\n",
            "Arguments validated.\n",
            "Validating arguments.\n",
            "Arguments validated.\n",
            "'overwrite' is set to True. Any file already present in the target will be overwritten.\n",
            "Uploading files from '/tmp/tmpfjyrgx_f' to 'managed-dataset/f20de118-bc0d-46fd-9a31-12aea429871f/'\n",
            "Successfully uploaded file to datastore.\n",
            "Creating and registering a new dataset.\n",
            "Successfully created and registered a new dataset.\n"
          ]
        }
      ]
    },
    {
      "cell_type": "code",
      "source": [],
      "metadata": {
        "id": "sAFuBElawnte"
      },
      "execution_count": null,
      "outputs": []
    },
    {
      "cell_type": "code",
      "source": [],
      "metadata": {
        "id": "03MvciuZwnwW"
      },
      "execution_count": null,
      "outputs": []
    },
    {
      "cell_type": "code",
      "source": [
        "ws_list=Workspace.list(subscription_id='fda9a93e-0f8d-43c3-b9a7-ec20b110dfbb',resource_group='azureml-sdk-rg')"
      ],
      "metadata": {
        "id": "CFRTZ1Kgjx3_"
      },
      "execution_count": null,
      "outputs": []
    },
    {
      "cell_type": "code",
      "source": [
        "print(ws_list)"
      ],
      "metadata": {
        "colab": {
          "base_uri": "https://localhost:8080/"
        },
        "id": "Ac4wpTNbjr-2",
        "outputId": "1c93d71d-72db-48f9-eeaf-4021cdaebc0e"
      },
      "execution_count": null,
      "outputs": [
        {
          "output_type": "stream",
          "name": "stdout",
          "text": [
            "{'azureml-sdk-ws': [Workspace.create(name='azureml-sdk-ws', subscription_id='fda9a93e-0f8d-43c3-b9a7-ec20b110dfbb', resource_group='azureml-sdk-rg')]}\n"
          ]
        }
      ]
    },
    {
      "cell_type": "code",
      "source": [
        "ws_list=list(ws_list)"
      ],
      "metadata": {
        "id": "1UoPSMrekjIu"
      },
      "execution_count": null,
      "outputs": []
    },
    {
      "cell_type": "code",
      "source": [
        "ws_list"
      ],
      "metadata": {
        "colab": {
          "base_uri": "https://localhost:8080/"
        },
        "id": "FInWdJQ7lTmL",
        "outputId": "5b7daf92-96df-4797-8957-3024c9e9f70f"
      },
      "execution_count": null,
      "outputs": [
        {
          "output_type": "execute_result",
          "data": {
            "text/plain": [
              "['azureml-sdk-ws']"
            ]
          },
          "metadata": {},
          "execution_count": 10
        }
      ]
    },
    {
      "cell_type": "markdown",
      "source": [
        "## Access the Datastore"
      ],
      "metadata": {
        "id": "MHSgV0bRlZfa"
      }
    },
    {
      "cell_type": "code",
      "source": [
        "## Accessing the Default store"
      ],
      "metadata": {
        "id": "Vm7xtTOPlfJv"
      },
      "execution_count": null,
      "outputs": []
    },
    {
      "cell_type": "code",
      "source": [
        "az_default_dstore=ws.get_default_datastore()"
      ],
      "metadata": {
        "id": "crvXD9jVlbU1"
      },
      "execution_count": null,
      "outputs": []
    },
    {
      "cell_type": "code",
      "source": [
        "print(az_default_dstore)"
      ],
      "metadata": {
        "colab": {
          "base_uri": "https://localhost:8080/"
        },
        "id": "JghkqCrFltFa",
        "outputId": "dc5db2c5-bc01-4f5f-cafe-e2d74535ca25"
      },
      "execution_count": null,
      "outputs": [
        {
          "output_type": "stream",
          "name": "stdout",
          "text": [
            "{\n",
            "  \"name\": \"workspaceblobstore\",\n",
            "  \"container_name\": \"azureml-blobstore-3407ae7b-1bc9-4a74-a7d3-e9916abf7378\",\n",
            "  \"account_name\": \"azuremlsstoragefdb1c766c\",\n",
            "  \"protocol\": \"https\",\n",
            "  \"endpoint\": \"core.windows.net\"\n",
            "}\n"
          ]
        }
      ]
    },
    {
      "cell_type": "code",
      "source": [
        "## Accessing all the datastore within Workspace"
      ],
      "metadata": {
        "id": "4zuo20FFl01Q"
      },
      "execution_count": null,
      "outputs": []
    },
    {
      "cell_type": "code",
      "source": [
        "print(ws.datastores)"
      ],
      "metadata": {
        "colab": {
          "base_uri": "https://localhost:8080/"
        },
        "id": "xBK5k6nBl9uu",
        "outputId": "12240503-7169-4e0d-bd13-87e415baaf4a"
      },
      "execution_count": null,
      "outputs": [
        {
          "output_type": "stream",
          "name": "stdout",
          "text": [
            "{'azureml_sdk_blob': {\n",
            "  \"name\": \"azureml_sdk_blob\",\n",
            "  \"container_name\": \"azureml\",\n",
            "  \"account_name\": \"azuremlsstoragefdb1c766c\",\n",
            "  \"protocol\": \"https\",\n",
            "  \"endpoint\": \"core.windows.net\"\n",
            "}, 'workspacefilestore': {\n",
            "  \"name\": \"workspacefilestore\",\n",
            "  \"container_name\": \"azureml-filestore-3407ae7b-1bc9-4a74-a7d3-e9916abf7378\",\n",
            "  \"account_name\": \"azuremlsstoragefdb1c766c\",\n",
            "  \"protocol\": \"https\",\n",
            "  \"endpoint\": \"core.windows.net\"\n",
            "}, 'workspaceworkingdirectory': {\n",
            "  \"name\": \"workspaceworkingdirectory\",\n",
            "  \"container_name\": \"code-391ff5ac-6576-460f-ba4d-7e03433c68b6\",\n",
            "  \"account_name\": \"azuremlsstoragefdb1c766c\",\n",
            "  \"protocol\": \"https\",\n",
            "  \"endpoint\": \"core.windows.net\"\n",
            "}, 'workspaceartifactstore': {\n",
            "  \"name\": \"workspaceartifactstore\",\n",
            "  \"container_name\": \"azureml\",\n",
            "  \"account_name\": \"azuremlsstoragefdb1c766c\",\n",
            "  \"protocol\": \"https\",\n",
            "  \"endpoint\": \"core.windows.net\"\n",
            "}, 'workspaceblobstore': {\n",
            "  \"name\": \"workspaceblobstore\",\n",
            "  \"container_name\": \"azureml-blobstore-3407ae7b-1bc9-4a74-a7d3-e9916abf7378\",\n",
            "  \"account_name\": \"azuremlsstoragefdb1c766c\",\n",
            "  \"protocol\": \"https\",\n",
            "  \"endpoint\": \"core.windows.net\"\n",
            "}}\n"
          ]
        }
      ]
    },
    {
      "cell_type": "code",
      "source": [
        "datastore_list=list(ws.datastores)"
      ],
      "metadata": {
        "id": "VXm_6NvFmK40"
      },
      "execution_count": null,
      "outputs": []
    },
    {
      "cell_type": "code",
      "source": [
        "datastore_list"
      ],
      "metadata": {
        "colab": {
          "base_uri": "https://localhost:8080/"
        },
        "id": "Ww-hxwYVm7In",
        "outputId": "82ee403d-1434-465a-9918-02daa73a3569"
      },
      "execution_count": null,
      "outputs": [
        {
          "output_type": "execute_result",
          "data": {
            "text/plain": [
              "['azureml_sdk_blob',\n",
              " 'workspacefilestore',\n",
              " 'workspaceworkingdirectory',\n",
              " 'workspaceartifactstore',\n",
              " 'workspaceblobstore']"
            ]
          },
          "metadata": {},
          "execution_count": 18
        }
      ]
    },
    {
      "cell_type": "code",
      "source": [
        "az_dataset=Dataset.get_by_name(workspace=ws,name='Churn_Modelling Data SDK')"
      ],
      "metadata": {
        "id": "nXiuKClSm8Jv"
      },
      "execution_count": null,
      "outputs": []
    },
    {
      "cell_type": "code",
      "source": [
        "print(az_dataset)"
      ],
      "metadata": {
        "colab": {
          "base_uri": "https://localhost:8080/"
        },
        "id": "zjmGBldtqt2R",
        "outputId": "315a6aec-d216-469e-c76b-7a1832fbf342"
      },
      "execution_count": null,
      "outputs": [
        {
          "output_type": "stream",
          "name": "stdout",
          "text": [
            "TabularDataset\n",
            "{\n",
            "  \"definition\": \"EnginelessDataflow:\\n---\\ntype: mltable\\npaths:\\n  - pattern: \\\"azureml://subscriptions/fda9a93e-0f8d-43c3-b9a7-ec20b110dfbb/resourcegroups/azureml-sdk-rg/workspaces/azureml-sdk-ws/datastores/azureml_sdk_blob/paths/Churn_Modelling.csv\\\"\\ntransformations:\\n  - read_delimited:\\n      path_column: Path\\n      include_path_column: false\\n      encoding: utf8\\n      support_multi_line: false\\n      delimiter: \\\",\\\"\\n      empty_as_string: false\\n      partition_size: 20971520\\n      header: all_files_same_headers\\n      infer_column_types: false\\n  - convert_column_types:\\n      - columns: HasCrCard\\n        column_type: boolean\\n      - columns: Surname\\n        column_type: string\\n      - columns: Age\\n        column_type: int\\n      - columns: CustomerId\\n        column_type: int\\n      - columns: Tenure\\n        column_type: int\\n      - columns: CreditScore\\n        column_type: int\\n      - columns: NumOfProducts\\n        column_type: int\\n      - columns: Balance\\n        column_type: float\\n      - columns: Geography\\n        column_type: string\\n      - columns: EstimatedSalary\\n        column_type: float\\n      - columns: RowNumber\\n        column_type: int\\n      - columns: Gender\\n        column_type: string\\n      - columns: Exited\\n        column_type: boolean\\n      - columns: IsActiveMember\\n        column_type: boolean\\nmetadata:\\n  infer_column_types: \\\"False\\\"\\n\",\n",
            "  \"registration\": {\n",
            "    \"id\": \"afeeb7c1-38b5-4f84-9088-ed9f926198b9\",\n",
            "    \"name\": \"Churn_Modelling Data SDK\",\n",
            "    \"version\": 1,\n",
            "    \"workspace\": \"Workspace.create(name='azureml-sdk-ws', subscription_id='fda9a93e-0f8d-43c3-b9a7-ec20b110dfbb', resource_group='azureml-sdk-rg')\"\n",
            "  }\n",
            "}\n"
          ]
        }
      ]
    },
    {
      "cell_type": "code",
      "source": [
        "##Getting all Datasets within Workspace"
      ],
      "metadata": {
        "id": "kLC45_ncq1bc"
      },
      "execution_count": null,
      "outputs": []
    },
    {
      "cell_type": "code",
      "source": [
        "az_all_datasets=Dataset.get_all(workspace=ws)"
      ],
      "metadata": {
        "id": "MOm8xh-Sruk0"
      },
      "execution_count": null,
      "outputs": []
    },
    {
      "cell_type": "code",
      "source": [
        "print(az_all_datasets)"
      ],
      "metadata": {
        "colab": {
          "base_uri": "https://localhost:8080/"
        },
        "id": "A1zarcYUs9pP",
        "outputId": "34a4b097-d49d-4562-c1d7-1debd965c8db"
      },
      "execution_count": null,
      "outputs": [
        {
          "output_type": "stream",
          "name": "stdout",
          "text": [
            "{ 'Churn_Modelling Data SDK': DatasetRegistration(id='afeeb7c1-38b5-4f84-9088-ed9f926198b9', name='Churn_Modelling Data SDK', version=1, description='', tags={})}\n"
          ]
        }
      ]
    },
    {
      "cell_type": "code",
      "source": [
        "ws.datasets.keys()"
      ],
      "metadata": {
        "colab": {
          "base_uri": "https://localhost:8080/"
        },
        "id": "fuKNyJ8Sv6Gg",
        "outputId": "1a2b8c16-dd65-415f-d3c3-4bfffc0b9ad2"
      },
      "execution_count": null,
      "outputs": [
        {
          "output_type": "execute_result",
          "data": {
            "text/plain": [
              "KeysView({'Churn_Modelling Data SDK': DatasetRegistration(id='afeeb7c1-38b5-4f84-9088-ed9f926198b9', name='Churn_Modelling Data SDK', version=1, description='', tags={})})"
            ]
          },
          "metadata": {},
          "execution_count": 28
        }
      ]
    },
    {
      "cell_type": "code",
      "source": [
        "dataset_list=list(ws.datasets.keys())\n",
        "dataset_list"
      ],
      "metadata": {
        "colab": {
          "base_uri": "https://localhost:8080/"
        },
        "id": "8iXUKbXywICa",
        "outputId": "0a1e40ff-572e-4e21-96da-7cd4bea23690"
      },
      "execution_count": null,
      "outputs": [
        {
          "output_type": "execute_result",
          "data": {
            "text/plain": [
              "['Churn_Modelling Data SDK']"
            ]
          },
          "metadata": {},
          "execution_count": 29
        }
      ]
    },
    {
      "cell_type": "code",
      "source": [],
      "metadata": {
        "id": "5_TVAdEfwPxc"
      },
      "execution_count": null,
      "outputs": []
    }
  ]
}
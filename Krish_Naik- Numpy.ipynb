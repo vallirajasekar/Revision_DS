{
 "cells": [
  {
   "cell_type": "code",
   "execution_count": 1,
   "id": "fa187d55",
   "metadata": {},
   "outputs": [],
   "source": [
    "import numpy as np"
   ]
  },
  {
   "cell_type": "code",
   "execution_count": 2,
   "id": "a13641cf",
   "metadata": {},
   "outputs": [],
   "source": [
    "my_list=[1,2,3]"
   ]
  },
  {
   "cell_type": "code",
   "execution_count": 8,
   "id": "b7b055d4",
   "metadata": {},
   "outputs": [
    {
     "data": {
      "text/plain": [
       "[1, 2, 3]"
      ]
     },
     "execution_count": 8,
     "metadata": {},
     "output_type": "execute_result"
    }
   ],
   "source": [
    "my_list"
   ]
  },
  {
   "cell_type": "code",
   "execution_count": 4,
   "id": "02bcd3dc",
   "metadata": {},
   "outputs": [],
   "source": [
    "arr=np.array(my_list)"
   ]
  },
  {
   "cell_type": "code",
   "execution_count": 6,
   "id": "9a499cc8",
   "metadata": {},
   "outputs": [
    {
     "data": {
      "text/plain": [
       "numpy.ndarray"
      ]
     },
     "execution_count": 6,
     "metadata": {},
     "output_type": "execute_result"
    }
   ],
   "source": [
    "type(arr)"
   ]
  },
  {
   "cell_type": "code",
   "execution_count": 13,
   "id": "07a1e339",
   "metadata": {},
   "outputs": [
    {
     "data": {
      "text/plain": [
       "array([1, 2, 3])"
      ]
     },
     "execution_count": 13,
     "metadata": {},
     "output_type": "execute_result"
    }
   ],
   "source": [
    "arr"
   ]
  },
  {
   "cell_type": "code",
   "execution_count": 7,
   "id": "d195e9ee",
   "metadata": {},
   "outputs": [
    {
     "data": {
      "text/plain": [
       "(3,)"
      ]
     },
     "execution_count": 7,
     "metadata": {},
     "output_type": "execute_result"
    }
   ],
   "source": [
    "arr.shape"
   ]
  },
  {
   "cell_type": "code",
   "execution_count": 9,
   "id": "3e204831",
   "metadata": {},
   "outputs": [
    {
     "data": {
      "text/plain": [
       "array([1, 2, 3])"
      ]
     },
     "execution_count": 9,
     "metadata": {},
     "output_type": "execute_result"
    }
   ],
   "source": [
    "arr"
   ]
  },
  {
   "cell_type": "code",
   "execution_count": 20,
   "id": "667925f3",
   "metadata": {},
   "outputs": [],
   "source": [
    "A_list=[1,2,3,4]\n",
    "B_list=[2,3,4,3]\n",
    "C_list=[3,4,5,2]"
   ]
  },
  {
   "cell_type": "code",
   "execution_count": 21,
   "id": "eec7ba0a",
   "metadata": {},
   "outputs": [],
   "source": [
    "arr_1=np.array([A_list,B_list,C_list])"
   ]
  },
  {
   "cell_type": "code",
   "execution_count": 22,
   "id": "f1eeaec0",
   "metadata": {},
   "outputs": [
    {
     "data": {
      "text/plain": [
       "(3,)"
      ]
     },
     "execution_count": 22,
     "metadata": {},
     "output_type": "execute_result"
    }
   ],
   "source": [
    "arr.shape"
   ]
  },
  {
   "cell_type": "code",
   "execution_count": 23,
   "id": "d1f66a51",
   "metadata": {},
   "outputs": [
    {
     "data": {
      "text/plain": [
       "array([[1, 2, 3, 4],\n",
       "       [2, 3, 4, 3],\n",
       "       [3, 4, 5, 2]])"
      ]
     },
     "execution_count": 23,
     "metadata": {},
     "output_type": "execute_result"
    }
   ],
   "source": [
    "arr_1"
   ]
  },
  {
   "cell_type": "code",
   "execution_count": 24,
   "id": "03f0b2a3",
   "metadata": {},
   "outputs": [
    {
     "data": {
      "text/plain": [
       "(3, 4)"
      ]
     },
     "execution_count": 24,
     "metadata": {},
     "output_type": "execute_result"
    }
   ],
   "source": [
    "arr_1.shape"
   ]
  },
  {
   "cell_type": "code",
   "execution_count": 26,
   "id": "4c921619",
   "metadata": {},
   "outputs": [
    {
     "data": {
      "text/plain": [
       "array([[1, 2, 3],\n",
       "       [4, 2, 3],\n",
       "       [4, 3, 3],\n",
       "       [4, 5, 2]])"
      ]
     },
     "execution_count": 26,
     "metadata": {},
     "output_type": "execute_result"
    }
   ],
   "source": [
    "arr_1.reshape(4,3)"
   ]
  },
  {
   "cell_type": "code",
   "execution_count": 30,
   "id": "eda53a75",
   "metadata": {},
   "outputs": [],
   "source": [
    "arr_2=np.array([1,2,3,4,5,6,7,8,9])"
   ]
  },
  {
   "cell_type": "code",
   "execution_count": 32,
   "id": "659130ac",
   "metadata": {},
   "outputs": [
    {
     "data": {
      "text/plain": [
       "6"
      ]
     },
     "execution_count": 32,
     "metadata": {},
     "output_type": "execute_result"
    }
   ],
   "source": [
    "arr_2[5]"
   ]
  },
  {
   "cell_type": "code",
   "execution_count": 33,
   "id": "d82db79b",
   "metadata": {},
   "outputs": [],
   "source": [
    "arr_1=np.array([A_list,B_list,C_list])"
   ]
  },
  {
   "cell_type": "code",
   "execution_count": 34,
   "id": "1f0be18e",
   "metadata": {},
   "outputs": [
    {
     "data": {
      "text/plain": [
       "array([[1, 2, 3, 4],\n",
       "       [2, 3, 4, 3],\n",
       "       [3, 4, 5, 2]])"
      ]
     },
     "execution_count": 34,
     "metadata": {},
     "output_type": "execute_result"
    }
   ],
   "source": [
    "arr_1"
   ]
  },
  {
   "cell_type": "code",
   "execution_count": 37,
   "id": "deb8bc51",
   "metadata": {},
   "outputs": [
    {
     "data": {
      "text/plain": [
       "array([[2, 3, 4],\n",
       "       [3, 4, 3],\n",
       "       [4, 5, 2]])"
      ]
     },
     "execution_count": 37,
     "metadata": {},
     "output_type": "execute_result"
    }
   ],
   "source": [
    "arr_1[:,1:]"
   ]
  },
  {
   "cell_type": "code",
   "execution_count": 38,
   "id": "e02d514a",
   "metadata": {},
   "outputs": [
    {
     "data": {
      "text/plain": [
       "array([0, 1, 2, 3, 4, 5, 6, 7, 8, 9])"
      ]
     },
     "execution_count": 38,
     "metadata": {},
     "output_type": "execute_result"
    }
   ],
   "source": [
    "np.arange(0,10)"
   ]
  },
  {
   "cell_type": "code",
   "execution_count": 40,
   "id": "db81faf9",
   "metadata": {},
   "outputs": [],
   "source": [
    "arr_4=np.arange(0,10,2)"
   ]
  },
  {
   "cell_type": "code",
   "execution_count": 41,
   "id": "a3977f6b",
   "metadata": {},
   "outputs": [
    {
     "data": {
      "text/plain": [
       "array([0, 2, 4, 6, 8])"
      ]
     },
     "execution_count": 41,
     "metadata": {},
     "output_type": "execute_result"
    }
   ],
   "source": [
    "arr_4"
   ]
  },
  {
   "cell_type": "code",
   "execution_count": 43,
   "id": "25af5a37",
   "metadata": {},
   "outputs": [],
   "source": [
    "arr_4[2:]=100"
   ]
  },
  {
   "cell_type": "code",
   "execution_count": 44,
   "id": "24e1c234",
   "metadata": {},
   "outputs": [
    {
     "data": {
      "text/plain": [
       "array([  0,   2, 100, 100, 100])"
      ]
     },
     "execution_count": 44,
     "metadata": {},
     "output_type": "execute_result"
    }
   ],
   "source": [
    "arr_4"
   ]
  },
  {
   "cell_type": "code",
   "execution_count": 46,
   "id": "0baa1b2c",
   "metadata": {},
   "outputs": [],
   "source": [
    "arr_5=np.linspace(1,20,4)"
   ]
  },
  {
   "cell_type": "code",
   "execution_count": 47,
   "id": "41ab2dbf",
   "metadata": {},
   "outputs": [
    {
     "data": {
      "text/plain": [
       "array([ 1.        ,  7.33333333, 13.66666667, 20.        ])"
      ]
     },
     "execution_count": 47,
     "metadata": {},
     "output_type": "execute_result"
    }
   ],
   "source": [
    "arr_5"
   ]
  },
  {
   "cell_type": "code",
   "execution_count": 52,
   "id": "7d4e04b7",
   "metadata": {},
   "outputs": [
    {
     "data": {
      "text/plain": [
       "array([[ 1.        ,  7.33333333],\n",
       "       [13.66666667, 20.        ]])"
      ]
     },
     "execution_count": 52,
     "metadata": {},
     "output_type": "execute_result"
    }
   ],
   "source": [
    "arr_5.reshape(2,2)"
   ]
  },
  {
   "cell_type": "code",
   "execution_count": 53,
   "id": "f9f4e53a",
   "metadata": {},
   "outputs": [
    {
     "data": {
      "text/plain": [
       "array([ True, False, False, False])"
      ]
     },
     "execution_count": 53,
     "metadata": {},
     "output_type": "execute_result"
    }
   ],
   "source": [
    "arr_5<2"
   ]
  },
  {
   "cell_type": "code",
   "execution_count": 54,
   "id": "3f824ad6",
   "metadata": {},
   "outputs": [
    {
     "data": {
      "text/plain": [
       "array([[0, 1, 2, 3, 4],\n",
       "       [5, 6, 7, 8, 9]])"
      ]
     },
     "execution_count": 54,
     "metadata": {},
     "output_type": "execute_result"
    }
   ],
   "source": [
    "np.arange(0,10).reshape(2,5)"
   ]
  },
  {
   "cell_type": "code",
   "execution_count": 57,
   "id": "594e8bd8",
   "metadata": {},
   "outputs": [
    {
     "data": {
      "text/plain": [
       "array([[1., 1.],\n",
       "       [1., 1.]])"
      ]
     },
     "execution_count": 57,
     "metadata": {},
     "output_type": "execute_result"
    }
   ],
   "source": [
    "np.ones(4).reshape(2,2)"
   ]
  },
  {
   "cell_type": "code",
   "execution_count": 61,
   "id": "bd575823",
   "metadata": {},
   "outputs": [
    {
     "data": {
      "text/plain": [
       "array([[1., 1., 1., 1., 1., 1., 1., 1.],\n",
       "       [1., 1., 1., 1., 1., 1., 1., 1.],\n",
       "       [1., 1., 1., 1., 1., 1., 1., 1.],\n",
       "       [1., 1., 1., 1., 1., 1., 1., 1.],\n",
       "       [1., 1., 1., 1., 1., 1., 1., 1.],\n",
       "       [1., 1., 1., 1., 1., 1., 1., 1.],\n",
       "       [1., 1., 1., 1., 1., 1., 1., 1.],\n",
       "       [1., 1., 1., 1., 1., 1., 1., 1.]])"
      ]
     },
     "execution_count": 61,
     "metadata": {},
     "output_type": "execute_result"
    }
   ],
   "source": [
    "np.ones((8,8),dtype=float)"
   ]
  },
  {
   "cell_type": "code",
   "execution_count": 62,
   "id": "9b5cf92f",
   "metadata": {},
   "outputs": [
    {
     "data": {
      "text/plain": [
       "array([[1., 1.],\n",
       "       [1., 1.],\n",
       "       [1., 1.],\n",
       "       [1., 1.],\n",
       "       [1., 1.],\n",
       "       [1., 1.],\n",
       "       [1., 1.],\n",
       "       [1., 1.],\n",
       "       [1., 1.],\n",
       "       [1., 1.],\n",
       "       [1., 1.],\n",
       "       [1., 1.],\n",
       "       [1., 1.],\n",
       "       [1., 1.],\n",
       "       [1., 1.],\n",
       "       [1., 1.],\n",
       "       [1., 1.],\n",
       "       [1., 1.],\n",
       "       [1., 1.],\n",
       "       [1., 1.],\n",
       "       [1., 1.],\n",
       "       [1., 1.],\n",
       "       [1., 1.],\n",
       "       [1., 1.],\n",
       "       [1., 1.],\n",
       "       [1., 1.],\n",
       "       [1., 1.],\n",
       "       [1., 1.],\n",
       "       [1., 1.],\n",
       "       [1., 1.],\n",
       "       [1., 1.],\n",
       "       [1., 1.]])"
      ]
     },
     "execution_count": 62,
     "metadata": {},
     "output_type": "execute_result"
    }
   ],
   "source": [
    "np.ones((8,8),dtype=float).reshape(32,2)"
   ]
  },
  {
   "cell_type": "code",
   "execution_count": 66,
   "id": "dd332f98",
   "metadata": {},
   "outputs": [],
   "source": [
    "b=np.random.rand(3,3)"
   ]
  },
  {
   "cell_type": "code",
   "execution_count": 65,
   "id": "12f490cd",
   "metadata": {},
   "outputs": [
    {
     "data": {
      "text/plain": [
       "array([[-0.41963277, -1.01353973, -0.50296549],\n",
       "       [-1.17940799, -0.39425551, -1.18563407],\n",
       "       [ 0.16796229, -0.67685423,  1.22107181]])"
      ]
     },
     "execution_count": 65,
     "metadata": {},
     "output_type": "execute_result"
    }
   ],
   "source": [
    "np.random.randn(3,3)"
   ]
  },
  {
   "cell_type": "code",
   "execution_count": 67,
   "id": "1be005de",
   "metadata": {},
   "outputs": [
    {
     "data": {
      "text/plain": [
       "array([[ True,  True,  True],\n",
       "       [ True,  True,  True],\n",
       "       [ True,  True,  True]])"
      ]
     },
     "execution_count": 67,
     "metadata": {},
     "output_type": "execute_result"
    }
   ],
   "source": [
    "b<1"
   ]
  },
  {
   "cell_type": "code",
   "execution_count": 68,
   "id": "9fdc9e1e",
   "metadata": {},
   "outputs": [],
   "source": [
    "c=np.random.randn(3,3)"
   ]
  },
  {
   "cell_type": "code",
   "execution_count": 70,
   "id": "630931a3",
   "metadata": {},
   "outputs": [],
   "source": [
    "import seaborn as sns \n",
    "import pandas as pd "
   ]
  },
  {
   "cell_type": "code",
   "execution_count": 73,
   "id": "a5cf3e18",
   "metadata": {},
   "outputs": [
    {
     "data": {
      "text/plain": [
       "array([[ 1.03727309,  1.07291431,  0.97932594,  0.82169895, -1.13129197,\n",
       "        -0.70634273,  0.51128358, -0.38647242, -0.29505603]])"
      ]
     },
     "execution_count": 73,
     "metadata": {},
     "output_type": "execute_result"
    }
   ],
   "source": [
    "c.reshape(1,9)"
   ]
  },
  {
   "cell_type": "code",
   "execution_count": 74,
   "id": "80a18e85",
   "metadata": {},
   "outputs": [
    {
     "ename": "OptionError",
     "evalue": "\"No such keys(s): 'mode.use_inf_as_null'\"",
     "output_type": "error",
     "traceback": [
      "\u001b[0;31m---------------------------------------------------------------------------\u001b[0m",
      "\u001b[0;31mOptionError\u001b[0m                               Traceback (most recent call last)",
      "\u001b[0;32m/var/folders/w5/y4zxnb0130zgls3vnryxcytr0000gn/T/ipykernel_17257/2612617083.py\u001b[0m in \u001b[0;36m<module>\u001b[0;34m\u001b[0m\n\u001b[0;32m----> 1\u001b[0;31m \u001b[0msns\u001b[0m\u001b[0;34m.\u001b[0m\u001b[0mdisplot\u001b[0m\u001b[0;34m(\u001b[0m\u001b[0mdata\u001b[0m\u001b[0;34m=\u001b[0m\u001b[0mc\u001b[0m\u001b[0;34m)\u001b[0m\u001b[0;34m\u001b[0m\u001b[0;34m\u001b[0m\u001b[0m\n\u001b[0m",
      "\u001b[0;32m~/opt/anaconda3/lib/python3.9/site-packages/seaborn/distributions.py\u001b[0m in \u001b[0;36mdisplot\u001b[0;34m(data, x, y, hue, row, col, weights, kind, rug, rug_kws, log_scale, legend, palette, hue_order, hue_norm, color, col_wrap, row_order, col_order, height, aspect, facet_kws, **kwargs)\u001b[0m\n\u001b[1;32m   2272\u001b[0m \u001b[0;34m\u001b[0m\u001b[0m\n\u001b[1;32m   2273\u001b[0m             \u001b[0m_assign_default_kwargs\u001b[0m\u001b[0;34m(\u001b[0m\u001b[0mhist_kws\u001b[0m\u001b[0;34m,\u001b[0m \u001b[0mp\u001b[0m\u001b[0;34m.\u001b[0m\u001b[0mplot_univariate_histogram\u001b[0m\u001b[0;34m,\u001b[0m \u001b[0mhistplot\u001b[0m\u001b[0;34m)\u001b[0m\u001b[0;34m\u001b[0m\u001b[0;34m\u001b[0m\u001b[0m\n\u001b[0;32m-> 2274\u001b[0;31m             \u001b[0mp\u001b[0m\u001b[0;34m.\u001b[0m\u001b[0mplot_univariate_histogram\u001b[0m\u001b[0;34m(\u001b[0m\u001b[0;34m**\u001b[0m\u001b[0mhist_kws\u001b[0m\u001b[0;34m)\u001b[0m\u001b[0;34m\u001b[0m\u001b[0;34m\u001b[0m\u001b[0m\n\u001b[0m\u001b[1;32m   2275\u001b[0m \u001b[0;34m\u001b[0m\u001b[0m\n\u001b[1;32m   2276\u001b[0m         \u001b[0;32melse\u001b[0m\u001b[0;34m:\u001b[0m\u001b[0;34m\u001b[0m\u001b[0;34m\u001b[0m\u001b[0m\n",
      "\u001b[0;32m~/opt/anaconda3/lib/python3.9/site-packages/seaborn/distributions.py\u001b[0m in \u001b[0;36mplot_univariate_histogram\u001b[0;34m(self, multiple, element, fill, common_norm, common_bins, shrink, kde, kde_kws, color, legend, line_kws, estimate_kws, **plot_kws)\u001b[0m\n\u001b[1;32m    398\u001b[0m         \u001b[0;32mif\u001b[0m \u001b[0mset\u001b[0m\u001b[0;34m(\u001b[0m\u001b[0mself\u001b[0m\u001b[0;34m.\u001b[0m\u001b[0mvariables\u001b[0m\u001b[0;34m)\u001b[0m \u001b[0;34m-\u001b[0m \u001b[0;34m{\u001b[0m\u001b[0;34m\"x\"\u001b[0m\u001b[0;34m,\u001b[0m \u001b[0;34m\"y\"\u001b[0m\u001b[0;34m}\u001b[0m\u001b[0;34m:\u001b[0m\u001b[0;34m\u001b[0m\u001b[0;34m\u001b[0m\u001b[0m\n\u001b[1;32m    399\u001b[0m \u001b[0;34m\u001b[0m\u001b[0m\n\u001b[0;32m--> 400\u001b[0;31m             \u001b[0mall_data\u001b[0m \u001b[0;34m=\u001b[0m \u001b[0mself\u001b[0m\u001b[0;34m.\u001b[0m\u001b[0mcomp_data\u001b[0m\u001b[0;34m.\u001b[0m\u001b[0mdropna\u001b[0m\u001b[0;34m(\u001b[0m\u001b[0;34m)\u001b[0m\u001b[0;34m\u001b[0m\u001b[0;34m\u001b[0m\u001b[0m\n\u001b[0m\u001b[1;32m    401\u001b[0m \u001b[0;34m\u001b[0m\u001b[0m\n\u001b[1;32m    402\u001b[0m             \u001b[0;32mif\u001b[0m \u001b[0mcommon_bins\u001b[0m\u001b[0;34m:\u001b[0m\u001b[0;34m\u001b[0m\u001b[0;34m\u001b[0m\u001b[0m\n",
      "\u001b[0;32m~/opt/anaconda3/lib/python3.9/site-packages/seaborn/_core.py\u001b[0m in \u001b[0;36mcomp_data\u001b[0;34m(self)\u001b[0m\n\u001b[1;32m   1052\u001b[0m                 \u001b[0;31m# Use the converter assigned to the axis to get a float representation\u001b[0m\u001b[0;34m\u001b[0m\u001b[0;34m\u001b[0m\u001b[0m\n\u001b[1;32m   1053\u001b[0m                 \u001b[0;31m# of the data, passing np.nan or pd.NA through (pd.NA becomes np.nan)\u001b[0m\u001b[0;34m\u001b[0m\u001b[0;34m\u001b[0m\u001b[0m\n\u001b[0;32m-> 1054\u001b[0;31m                 \u001b[0;32mwith\u001b[0m \u001b[0mpd\u001b[0m\u001b[0;34m.\u001b[0m\u001b[0moption_context\u001b[0m\u001b[0;34m(\u001b[0m\u001b[0;34m'mode.use_inf_as_null'\u001b[0m\u001b[0;34m,\u001b[0m \u001b[0;32mTrue\u001b[0m\u001b[0;34m)\u001b[0m\u001b[0;34m:\u001b[0m\u001b[0;34m\u001b[0m\u001b[0;34m\u001b[0m\u001b[0m\n\u001b[0m\u001b[1;32m   1055\u001b[0m                     \u001b[0morig\u001b[0m \u001b[0;34m=\u001b[0m \u001b[0mself\u001b[0m\u001b[0;34m.\u001b[0m\u001b[0mplot_data\u001b[0m\u001b[0;34m[\u001b[0m\u001b[0mvar\u001b[0m\u001b[0;34m]\u001b[0m\u001b[0;34m.\u001b[0m\u001b[0mdropna\u001b[0m\u001b[0;34m(\u001b[0m\u001b[0;34m)\u001b[0m\u001b[0;34m\u001b[0m\u001b[0;34m\u001b[0m\u001b[0m\n\u001b[1;32m   1056\u001b[0m                 \u001b[0mcomp_col\u001b[0m \u001b[0;34m=\u001b[0m \u001b[0mpd\u001b[0m\u001b[0;34m.\u001b[0m\u001b[0mSeries\u001b[0m\u001b[0;34m(\u001b[0m\u001b[0mindex\u001b[0m\u001b[0;34m=\u001b[0m\u001b[0morig\u001b[0m\u001b[0;34m.\u001b[0m\u001b[0mindex\u001b[0m\u001b[0;34m,\u001b[0m \u001b[0mdtype\u001b[0m\u001b[0;34m=\u001b[0m\u001b[0mfloat\u001b[0m\u001b[0;34m,\u001b[0m \u001b[0mname\u001b[0m\u001b[0;34m=\u001b[0m\u001b[0mvar\u001b[0m\u001b[0;34m)\u001b[0m\u001b[0;34m\u001b[0m\u001b[0;34m\u001b[0m\u001b[0m\n",
      "\u001b[0;32m~/opt/anaconda3/lib/python3.9/site-packages/pandas/_config/config.py\u001b[0m in \u001b[0;36m__enter__\u001b[0;34m(self)\u001b[0m\n\u001b[1;32m    439\u001b[0m \u001b[0;34m\u001b[0m\u001b[0m\n\u001b[1;32m    440\u001b[0m     \u001b[0;32mdef\u001b[0m \u001b[0m__enter__\u001b[0m\u001b[0;34m(\u001b[0m\u001b[0mself\u001b[0m\u001b[0;34m)\u001b[0m \u001b[0;34m->\u001b[0m \u001b[0;32mNone\u001b[0m\u001b[0;34m:\u001b[0m\u001b[0;34m\u001b[0m\u001b[0;34m\u001b[0m\u001b[0m\n\u001b[0;32m--> 441\u001b[0;31m         \u001b[0mself\u001b[0m\u001b[0;34m.\u001b[0m\u001b[0mundo\u001b[0m \u001b[0;34m=\u001b[0m \u001b[0;34m[\u001b[0m\u001b[0;34m(\u001b[0m\u001b[0mpat\u001b[0m\u001b[0;34m,\u001b[0m \u001b[0m_get_option\u001b[0m\u001b[0;34m(\u001b[0m\u001b[0mpat\u001b[0m\u001b[0;34m,\u001b[0m \u001b[0msilent\u001b[0m\u001b[0;34m=\u001b[0m\u001b[0;32mTrue\u001b[0m\u001b[0;34m)\u001b[0m\u001b[0;34m)\u001b[0m \u001b[0;32mfor\u001b[0m \u001b[0mpat\u001b[0m\u001b[0;34m,\u001b[0m \u001b[0mval\u001b[0m \u001b[0;32min\u001b[0m \u001b[0mself\u001b[0m\u001b[0;34m.\u001b[0m\u001b[0mops\u001b[0m\u001b[0;34m]\u001b[0m\u001b[0;34m\u001b[0m\u001b[0;34m\u001b[0m\u001b[0m\n\u001b[0m\u001b[1;32m    442\u001b[0m \u001b[0;34m\u001b[0m\u001b[0m\n\u001b[1;32m    443\u001b[0m         \u001b[0;32mfor\u001b[0m \u001b[0mpat\u001b[0m\u001b[0;34m,\u001b[0m \u001b[0mval\u001b[0m \u001b[0;32min\u001b[0m \u001b[0mself\u001b[0m\u001b[0;34m.\u001b[0m\u001b[0mops\u001b[0m\u001b[0;34m:\u001b[0m\u001b[0;34m\u001b[0m\u001b[0;34m\u001b[0m\u001b[0m\n",
      "\u001b[0;32m~/opt/anaconda3/lib/python3.9/site-packages/pandas/_config/config.py\u001b[0m in \u001b[0;36m<listcomp>\u001b[0;34m(.0)\u001b[0m\n\u001b[1;32m    439\u001b[0m \u001b[0;34m\u001b[0m\u001b[0m\n\u001b[1;32m    440\u001b[0m     \u001b[0;32mdef\u001b[0m \u001b[0m__enter__\u001b[0m\u001b[0;34m(\u001b[0m\u001b[0mself\u001b[0m\u001b[0;34m)\u001b[0m \u001b[0;34m->\u001b[0m \u001b[0;32mNone\u001b[0m\u001b[0;34m:\u001b[0m\u001b[0;34m\u001b[0m\u001b[0;34m\u001b[0m\u001b[0m\n\u001b[0;32m--> 441\u001b[0;31m         \u001b[0mself\u001b[0m\u001b[0;34m.\u001b[0m\u001b[0mundo\u001b[0m \u001b[0;34m=\u001b[0m \u001b[0;34m[\u001b[0m\u001b[0;34m(\u001b[0m\u001b[0mpat\u001b[0m\u001b[0;34m,\u001b[0m \u001b[0m_get_option\u001b[0m\u001b[0;34m(\u001b[0m\u001b[0mpat\u001b[0m\u001b[0;34m,\u001b[0m \u001b[0msilent\u001b[0m\u001b[0;34m=\u001b[0m\u001b[0;32mTrue\u001b[0m\u001b[0;34m)\u001b[0m\u001b[0;34m)\u001b[0m \u001b[0;32mfor\u001b[0m \u001b[0mpat\u001b[0m\u001b[0;34m,\u001b[0m \u001b[0mval\u001b[0m \u001b[0;32min\u001b[0m \u001b[0mself\u001b[0m\u001b[0;34m.\u001b[0m\u001b[0mops\u001b[0m\u001b[0;34m]\u001b[0m\u001b[0;34m\u001b[0m\u001b[0;34m\u001b[0m\u001b[0m\n\u001b[0m\u001b[1;32m    442\u001b[0m \u001b[0;34m\u001b[0m\u001b[0m\n\u001b[1;32m    443\u001b[0m         \u001b[0;32mfor\u001b[0m \u001b[0mpat\u001b[0m\u001b[0;34m,\u001b[0m \u001b[0mval\u001b[0m \u001b[0;32min\u001b[0m \u001b[0mself\u001b[0m\u001b[0;34m.\u001b[0m\u001b[0mops\u001b[0m\u001b[0;34m:\u001b[0m\u001b[0;34m\u001b[0m\u001b[0;34m\u001b[0m\u001b[0m\n",
      "\u001b[0;32m~/opt/anaconda3/lib/python3.9/site-packages/pandas/_config/config.py\u001b[0m in \u001b[0;36m_get_option\u001b[0;34m(pat, silent)\u001b[0m\n\u001b[1;32m    133\u001b[0m \u001b[0;34m\u001b[0m\u001b[0m\n\u001b[1;32m    134\u001b[0m \u001b[0;32mdef\u001b[0m \u001b[0m_get_option\u001b[0m\u001b[0;34m(\u001b[0m\u001b[0mpat\u001b[0m\u001b[0;34m:\u001b[0m \u001b[0mstr\u001b[0m\u001b[0;34m,\u001b[0m \u001b[0msilent\u001b[0m\u001b[0;34m:\u001b[0m \u001b[0mbool\u001b[0m \u001b[0;34m=\u001b[0m \u001b[0;32mFalse\u001b[0m\u001b[0;34m)\u001b[0m \u001b[0;34m->\u001b[0m \u001b[0mAny\u001b[0m\u001b[0;34m:\u001b[0m\u001b[0;34m\u001b[0m\u001b[0;34m\u001b[0m\u001b[0m\n\u001b[0;32m--> 135\u001b[0;31m     \u001b[0mkey\u001b[0m \u001b[0;34m=\u001b[0m \u001b[0m_get_single_key\u001b[0m\u001b[0;34m(\u001b[0m\u001b[0mpat\u001b[0m\u001b[0;34m,\u001b[0m \u001b[0msilent\u001b[0m\u001b[0;34m)\u001b[0m\u001b[0;34m\u001b[0m\u001b[0;34m\u001b[0m\u001b[0m\n\u001b[0m\u001b[1;32m    136\u001b[0m \u001b[0;34m\u001b[0m\u001b[0m\n\u001b[1;32m    137\u001b[0m     \u001b[0;31m# walk the nested dict\u001b[0m\u001b[0;34m\u001b[0m\u001b[0;34m\u001b[0m\u001b[0m\n",
      "\u001b[0;32m~/opt/anaconda3/lib/python3.9/site-packages/pandas/_config/config.py\u001b[0m in \u001b[0;36m_get_single_key\u001b[0;34m(pat, silent)\u001b[0m\n\u001b[1;32m    119\u001b[0m         \u001b[0;32mif\u001b[0m \u001b[0;32mnot\u001b[0m \u001b[0msilent\u001b[0m\u001b[0;34m:\u001b[0m\u001b[0;34m\u001b[0m\u001b[0;34m\u001b[0m\u001b[0m\n\u001b[1;32m    120\u001b[0m             \u001b[0m_warn_if_deprecated\u001b[0m\u001b[0;34m(\u001b[0m\u001b[0mpat\u001b[0m\u001b[0;34m)\u001b[0m\u001b[0;34m\u001b[0m\u001b[0;34m\u001b[0m\u001b[0m\n\u001b[0;32m--> 121\u001b[0;31m         \u001b[0;32mraise\u001b[0m \u001b[0mOptionError\u001b[0m\u001b[0;34m(\u001b[0m\u001b[0;34mf\"No such keys(s): {repr(pat)}\"\u001b[0m\u001b[0;34m)\u001b[0m\u001b[0;34m\u001b[0m\u001b[0;34m\u001b[0m\u001b[0m\n\u001b[0m\u001b[1;32m    122\u001b[0m     \u001b[0;32mif\u001b[0m \u001b[0mlen\u001b[0m\u001b[0;34m(\u001b[0m\u001b[0mkeys\u001b[0m\u001b[0;34m)\u001b[0m \u001b[0;34m>\u001b[0m \u001b[0;36m1\u001b[0m\u001b[0;34m:\u001b[0m\u001b[0;34m\u001b[0m\u001b[0;34m\u001b[0m\u001b[0m\n\u001b[1;32m    123\u001b[0m         \u001b[0;32mraise\u001b[0m \u001b[0mOptionError\u001b[0m\u001b[0;34m(\u001b[0m\u001b[0;34m\"Pattern matched multiple keys\"\u001b[0m\u001b[0;34m)\u001b[0m\u001b[0;34m\u001b[0m\u001b[0;34m\u001b[0m\u001b[0m\n",
      "\u001b[0;31mOptionError\u001b[0m: \"No such keys(s): 'mode.use_inf_as_null'\""
     ]
    },
    {
     "data": {
      "image/png": "[encoded data removed]",
      "text/plain": [
       "<Figure size 360x360 with 1 Axes>"
      ]
     },
     "metadata": {
      "needs_background": "light"
     },
     "output_type": "display_data"
    }
   ],
   "source": [
    "sns.displot(data=c)"
   ]
  },
  {
   "cell_type": "code",
   "execution_count": 75,
   "id": "ff232001",
   "metadata": {},
   "outputs": [
    {
     "data": {
      "text/plain": [
       "array([[0.85324032, 0.49579596, 0.53252879],\n",
       "       [0.79695315, 0.16640007, 0.39699544],\n",
       "       [0.3060043 , 0.89881259, 0.90193173]])"
      ]
     },
     "execution_count": 75,
     "metadata": {},
     "output_type": "execute_result"
    }
   ],
   "source": [
    "np.random.rand(3,3)"
   ]
  },
  {
   "cell_type": "code",
   "execution_count": 76,
   "id": "ce613b37",
   "metadata": {},
   "outputs": [
    {
     "data": {
      "text/plain": [
       "array([[ 1.73915334, -0.50509177, -1.24464698],\n",
       "       [-0.2865407 ,  0.14915952, -0.37384055],\n",
       "       [-2.03897435, -1.47417629,  0.37042587]])"
      ]
     },
     "execution_count": 76,
     "metadata": {},
     "output_type": "execute_result"
    }
   ],
   "source": [
    "np.random.randn(3,3)"
   ]
  },
  {
   "cell_type": "code",
   "execution_count": 79,
   "id": "a8b8596c",
   "metadata": {},
   "outputs": [
    {
     "data": {
      "text/plain": [
       "array([18, 24])"
      ]
     },
     "execution_count": 79,
     "metadata": {},
     "output_type": "execute_result"
    }
   ],
   "source": [
    "np.random.randint(3,31,2)"
   ]
  },
  {
   "cell_type": "code",
   "execution_count": 86,
   "id": "d72bf5da",
   "metadata": {},
   "outputs": [
    {
     "data": {
      "text/plain": [
       "array([[0.40551582, 0.21238828, 0.02610088, 0.69606041, 0.17115972]])"
      ]
     },
     "execution_count": 86,
     "metadata": {},
     "output_type": "execute_result"
    }
   ],
   "source": [
    "np.random.random_sample((1,5))\n"
   ]
  },
  {
   "cell_type": "code",
   "execution_count": 85,
   "id": "bf6ae505",
   "metadata": {},
   "outputs": [
    {
     "data": {
      "text/plain": [
       "array([[0.34227218, 0.94618829, 0.42560765, 0.23759449, 0.10510911,\n",
       "        0.75347444, 0.55139544, 0.70516658, 0.62355187, 0.25123407,\n",
       "        0.94456437, 0.91933067, 0.42009351, 0.33090528, 0.69574982,\n",
       "        0.4511864 , 0.21875826, 0.64624506, 0.87020492, 0.6995467 ,\n",
       "        0.86206894, 0.03082095, 0.18502576, 0.25919911, 0.40201338,\n",
       "        0.94139164, 0.89812963, 0.67280913, 0.18322855, 0.08146842,\n",
       "        0.30188103],\n",
       "       [0.0466799 , 0.9725442 , 0.03622104, 0.22207974, 0.56891045,\n",
       "        0.32984248, 0.17596792, 0.58881663, 0.58584198, 0.89455967,\n",
       "        0.45329033, 0.8059878 , 0.49790584, 0.12947725, 0.47485247,\n",
       "        0.35556441, 0.90234155, 0.74469793, 0.79009007, 0.42945641,\n",
       "        0.48606237, 0.83153709, 0.4337808 , 0.13452953, 0.81358004,\n",
       "        0.286564  , 0.11951255, 0.75137003, 0.34590078, 0.38326461,\n",
       "        0.6431775 ],\n",
       "       [0.68451374, 0.44740592, 0.84140519, 0.15993894, 0.46170118,\n",
       "        0.57328425, 0.66559293, 0.23259674, 0.57986483, 0.9880865 ,\n",
       "        0.25209196, 0.06842143, 0.56891763, 0.81045735, 0.15915591,\n",
       "        0.07763498, 0.38829888, 0.83999473, 0.65353596, 0.37660759,\n",
       "        0.7237608 , 0.18776609, 0.29000502, 0.61320969, 0.74476734,\n",
       "        0.62466437, 0.51687664, 0.73827129, 0.08394426, 0.12244012,\n",
       "        0.86074683]])"
      ]
     },
     "execution_count": 85,
     "metadata": {},
     "output_type": "execute_result"
    }
   ],
   "source": [
    "np.random.random_sample((3,31))"
   ]
  },
  {
   "cell_type": "code",
   "execution_count": 96,
   "id": "80552e34",
   "metadata": {},
   "outputs": [],
   "source": [
    "x =5\n",
    "y =7\n",
    "z=9"
   ]
  },
  {
   "cell_type": "code",
   "execution_count": 97,
   "id": "0d8e4e61",
   "metadata": {},
   "outputs": [
    {
     "data": {
      "text/plain": [
       "int"
      ]
     },
     "execution_count": 97,
     "metadata": {},
     "output_type": "execute_result"
    }
   ],
   "source": [
    "type(x)"
   ]
  },
  {
   "cell_type": "code",
   "execution_count": 98,
   "id": "7232a90f",
   "metadata": {},
   "outputs": [
    {
     "data": {
      "text/plain": [
       "78090.77777777778"
      ]
     },
     "execution_count": 98,
     "metadata": {},
     "output_type": "execute_result"
    }
   ],
   "source": [
    "(x**y) + (y/z) + (x-y) +(z-y) - (y*x)"
   ]
  },
  {
   "cell_type": "code",
   "execution_count": 101,
   "id": "560dbaa2",
   "metadata": {},
   "outputs": [],
   "source": [
    "x=15\n",
    "y=2 \n",
    "z=19"
   ]
  },
  {
   "cell_type": "code",
   "execution_count": 102,
   "id": "a39a7b79",
   "metadata": {},
   "outputs": [
    {
     "data": {
      "text/plain": [
       "225.10526315789474"
      ]
     },
     "execution_count": 102,
     "metadata": {},
     "output_type": "execute_result"
    }
   ],
   "source": [
    "(x**y) + (y/z) + (x-y) +(z-y) - (y*x)"
   ]
  },
  {
   "cell_type": "code",
   "execution_count": 104,
   "id": "d5683be1",
   "metadata": {},
   "outputs": [
    {
     "name": "stdout",
     "output_type": "stream",
     "text": [
      "/\n"
     ]
    }
   ],
   "source": [
    "print('/')\n",
    "\n"
   ]
  },
  {
   "cell_type": "code",
   "execution_count": 105,
   "id": "0627b9fe",
   "metadata": {},
   "outputs": [
    {
     "ename": "TypeError",
     "evalue": "'>' not supported between instances of 'str' and 'int'",
     "output_type": "error",
     "traceback": [
      "\u001b[0;31m---------------------------------------------------------------------------\u001b[0m",
      "\u001b[0;31mTypeError\u001b[0m                                 Traceback (most recent call last)",
      "\u001b[0;32m/var/folders/w5/y4zxnb0130zgls3vnryxcytr0000gn/T/ipykernel_17257/1906264525.py\u001b[0m in \u001b[0;36m<module>\u001b[0;34m\u001b[0m\n\u001b[1;32m      1\u001b[0m \u001b[0mi\u001b[0m\u001b[0;34m=\u001b[0m\u001b[0;34m'20'\u001b[0m\u001b[0;34m\u001b[0m\u001b[0;34m\u001b[0m\u001b[0m\n\u001b[0;32m----> 2\u001b[0;31m \u001b[0;32mif\u001b[0m \u001b[0mi\u001b[0m\u001b[0;34m>\u001b[0m\u001b[0;36m20\u001b[0m\u001b[0;34m:\u001b[0m\u001b[0;34m\u001b[0m\u001b[0;34m\u001b[0m\u001b[0m\n\u001b[0m\u001b[1;32m      3\u001b[0m     \u001b[0mprint\u001b[0m\u001b[0;34m(\u001b[0m\u001b[0;36m1\u001b[0m\u001b[0;34m)\u001b[0m\u001b[0;34m\u001b[0m\u001b[0;34m\u001b[0m\u001b[0m\n\u001b[1;32m      4\u001b[0m \u001b[0;32melse\u001b[0m\u001b[0;34m:\u001b[0m\u001b[0;34m\u001b[0m\u001b[0;34m\u001b[0m\u001b[0m\n\u001b[1;32m      5\u001b[0m     \u001b[0mprint\u001b[0m\u001b[0;34m(\u001b[0m\u001b[0;36m2\u001b[0m\u001b[0;34m)\u001b[0m\u001b[0;34m\u001b[0m\u001b[0;34m\u001b[0m\u001b[0m\n",
      "\u001b[0;31mTypeError\u001b[0m: '>' not supported between instances of 'str' and 'int'"
     ]
    }
   ],
   "source": [
    "i='20'\n",
    "if i>20:\n",
    "    print(1)\n",
    "else: \n",
    "    print(2)"
   ]
  },
  {
   "cell_type": "code",
   "execution_count": 106,
   "id": "fc0a039a",
   "metadata": {},
   "outputs": [
    {
     "name": "stdout",
     "output_type": "stream",
     "text": [
      "Student 1: 10\n",
      "Student 2: 34\n",
      "Student 3: 8\n",
      "Student 4: 25\n",
      "Student 5: 6\n",
      "Student 6: 68\n",
      "Student 7: 77\n",
      "Student 8: 84\n",
      "Student 9: 62\n",
      "Student 10: 21\n",
      "Student 11: 75\n",
      "Student 12: 60\n",
      "Student 13: 13\n",
      "Student 14: 47\n",
      "Student 15: 39\n",
      "Student 16: 99\n",
      "Student 17: 32\n",
      "Student 18: 72\n",
      "Student 19: 30\n",
      "Student 20: 63\n",
      "Student 21: 67\n",
      "Student 22: 65\n",
      "Student 23: 29\n",
      "Student 24: 33\n",
      "Student 25: 68\n",
      "Student 26: 45\n",
      "Student 27: 63\n",
      "Student 28: 96\n",
      "Student 29: 74\n",
      "Student 30: 75\n",
      "Student 31: 25\n",
      "Student 32: 76\n",
      "Student 33: 21\n",
      "Student 34: 22\n",
      "Student 35: 80\n",
      "Student 36: 51\n",
      "Student 37: 68\n",
      "Student 38: 82\n",
      "Student 39: 36\n",
      "Student 40: 11\n",
      "Student 41: 34\n",
      "Student 42: 12\n",
      "Student 43: 39\n",
      "Student 44: 89\n",
      "Student 45: 2\n",
      "Student 46: 46\n",
      "Student 47: 67\n",
      "Student 48: 24\n",
      "Student 49: 97\n",
      "Student 50: 72\n",
      "Student 51: 6\n",
      "Student 52: 26\n",
      "Student 53: 0\n",
      "Student 54: 100\n",
      "Student 55: 67\n",
      "Student 56: 40\n",
      "Student 57: 52\n",
      "Student 58: 13\n",
      "Student 59: 27\n",
      "Student 60: 37\n",
      "Student 61: 83\n",
      "Student 62: 65\n",
      "Student 63: 62\n",
      "Student 64: 89\n",
      "Student 65: 85\n",
      "Student 66: 3\n",
      "Student 67: 79\n",
      "Student 68: 20\n",
      "Student 69: 38\n",
      "Student 70: 47\n",
      "Student 71: 7\n",
      "Student 72: 49\n",
      "Student 73: 17\n",
      "Student 74: 61\n",
      "Student 75: 22\n",
      "Student 76: 50\n",
      "Student 77: 33\n",
      "Student 78: 77\n",
      "Student 79: 45\n",
      "Student 80: 5\n",
      "Student 81: 7\n",
      "Student 82: 1\n",
      "Student 83: 4\n",
      "Student 84: 63\n",
      "Student 85: 21\n",
      "Student 86: 18\n",
      "Student 87: 46\n",
      "Student 88: 74\n",
      "Student 89: 42\n",
      "Student 90: 76\n",
      "Student 91: 59\n",
      "Student 92: 7\n",
      "Student 93: 51\n",
      "Student 94: 74\n",
      "Student 95: 37\n",
      "Student 96: 30\n",
      "Student 97: 45\n",
      "Student 98: 96\n",
      "Student 99: 92\n",
      "Student 100: 12\n"
     ]
    }
   ],
   "source": [
    "import random\n",
    "\n",
    "# Generate marks for 100 students\n",
    "marks = [random.randint(0, 100) for _ in range(100)]\n",
    "\n",
    "# Print the generated marks\n",
    "for i, mark in enumerate(marks, 1):\n",
    "    print(f\"Student {i}: {mark}\")\n"
   ]
  },
  {
   "cell_type": "code",
   "execution_count": 110,
   "id": "74fdbb4a",
   "metadata": {},
   "outputs": [],
   "source": [
    "import matplotlib.pyplot as plt\n",
    "\n",
    "# Marks data\n",
    "marks = [100, 134, 180, 125, 6, 168, 177,111, 84, 62, 121, 75, 60, 113, 147, 139, 99, 132, 72, 30, 163, 67, 65, 29, 133, 68, 45, 63, 96, 74, 75, 125, 76, 21, 122, 80, 51, 68, 82, 36, 11, 34, 12, 39, 89, 2, 46, 67, 24, 97, 72, 6, 26, 0, 100, 67, 40, 52, 13, 27, 37, 83, 65, 62, 89, 85, 3, 79, 20, 38, 47, 7, 49, 17, 61, 22, 50, 33, 77, 45, 5, 7, 1, 4, 63, 21, 18, 46, 74, 42, 76, 59, 7, 51, 74, 37, 30, 45, 96, 92, 12]\n",
    "\n",
    "# Calculate the five-number summary\n",
    "minimum = min(marks)\n",
    "maximum = max(marks)\n",
    "median = sorted(marks)[len(marks) // 2]\n",
    "\n",
    "q1 = sorted(marks)[:len(marks) // 2][len(marks[:len(marks) // 2]) // 2]\n",
    "q3 = sorted(marks)[len(marks) // 2 + 1:][len(marks[len(marks) // 2 + 1:]) // 2]\n"
   ]
  },
  {
   "cell_type": "code",
   "execution_count": 111,
   "id": "489de3df",
   "metadata": {},
   "outputs": [
    {
     "data": {
      "image/png": "[encoded data removed]",
      "text/plain": [
       "<Figure size 432x288 with 1 Axes>"
      ]
     },
     "metadata": {
      "needs_background": "light"
     },
     "output_type": "display_data"
    }
   ],
   "source": [
    "# Create a box plot\n",
    "plt.boxplot(marks)\n",
    "plt.title(\"Box Plot - Student Marks\")\n",
    "plt.ylabel(\"Marks\")\n",
    "plt.show()"
   ]
  },
  {
   "cell_type": "code",
   "execution_count": 112,
   "id": "f7494ec2",
   "metadata": {},
   "outputs": [
    {
     "name": "stdout",
     "output_type": "stream",
     "text": [
      "Five-Number Summary:\n",
      "Minimum: 0\n",
      "Q1: 30\n",
      "Median: 62\n",
      "Q3: 85\n",
      "Maximum: 180\n"
     ]
    }
   ],
   "source": [
    "print(\"Five-Number Summary:\")\n",
    "print(f\"Minimum: {minimum}\")\n",
    "print(f\"Q1: {q1}\")\n",
    "print(f\"Median: {median}\")\n",
    "print(f\"Q3: {q3}\")\n",
    "print(f\"Maximum: {maximum}\")\n"
   ]
  },
  {
   "cell_type": "code",
   "execution_count": 113,
   "id": "a174444c",
   "metadata": {},
   "outputs": [
    {
     "name": "stdout",
     "output_type": "stream",
     "text": [
      "Student 1: 0.88\n",
      "Student 2: 1.67\n",
      "Student 3: 2.75\n",
      "Student 4: 1.46\n",
      "Student 5: -1.33\n",
      "Student 6: 2.47\n",
      "Student 7: 2.68\n",
      "Student 8: 1.13\n",
      "Student 9: 0.50\n",
      "Student 10: -0.02\n",
      "Student 11: 1.37\n",
      "Student 12: 0.29\n",
      "Student 13: -0.06\n",
      "Student 14: 1.18\n",
      "Student 15: 1.98\n",
      "Student 16: 1.79\n",
      "Student 17: 0.85\n",
      "Student 18: 1.63\n",
      "Student 19: 0.22\n",
      "Student 20: -0.77\n",
      "Student 21: 2.35\n",
      "Student 22: 0.10\n",
      "Student 23: 0.06\n",
      "Student 24: -0.79\n",
      "Student 25: 1.65\n",
      "Student 26: 0.13\n",
      "Student 27: -0.41\n",
      "Student 28: 0.01\n",
      "Student 29: 0.78\n",
      "Student 30: 0.27\n",
      "Student 31: 0.29\n",
      "Student 32: 1.46\n",
      "Student 33: 0.31\n",
      "Student 34: -0.98\n",
      "Student 35: 1.39\n",
      "Student 36: 0.41\n",
      "Student 37: -0.27\n",
      "Student 38: 0.13\n",
      "Student 39: 0.45\n",
      "Student 40: -0.63\n",
      "Student 41: -1.21\n",
      "Student 42: -0.67\n",
      "Student 43: -1.19\n",
      "Student 44: -0.55\n",
      "Student 45: 0.62\n",
      "Student 46: -1.42\n",
      "Student 47: -0.39\n",
      "Student 48: 0.10\n",
      "Student 49: -0.91\n",
      "Student 50: 0.81\n",
      "Student 51: 0.22\n",
      "Student 52: -1.33\n",
      "Student 53: -0.86\n",
      "Student 54: -1.47\n",
      "Student 55: 0.88\n",
      "Student 56: 0.10\n",
      "Student 57: -0.53\n",
      "Student 58: -0.25\n",
      "Student 59: -1.16\n",
      "Student 60: -0.84\n",
      "Student 61: -0.60\n",
      "Student 62: 0.48\n",
      "Student 63: 0.06\n",
      "Student 64: -0.02\n",
      "Student 65: 0.62\n",
      "Student 66: 0.52\n",
      "Student 67: -1.40\n",
      "Student 68: 0.38\n",
      "Student 69: -1.00\n",
      "Student 70: -0.58\n",
      "Student 71: -0.37\n",
      "Student 72: -1.31\n",
      "Student 73: -0.32\n",
      "Student 74: -1.07\n",
      "Student 75: -0.04\n",
      "Student 76: -0.95\n",
      "Student 77: -0.30\n",
      "Student 78: -0.70\n",
      "Student 79: 0.34\n",
      "Student 80: -0.41\n",
      "Student 81: -1.35\n",
      "Student 82: -1.31\n",
      "Student 83: -1.45\n",
      "Student 84: -1.38\n",
      "Student 85: 0.01\n",
      "Student 86: -0.98\n",
      "Student 87: -1.05\n",
      "Student 88: -0.39\n",
      "Student 89: 0.27\n",
      "Student 90: -0.48\n",
      "Student 91: 0.31\n",
      "Student 92: -0.09\n",
      "Student 93: -1.31\n",
      "Student 94: -0.27\n",
      "Student 95: 0.27\n",
      "Student 96: -0.60\n",
      "Student 97: -0.77\n",
      "Student 98: -0.41\n",
      "Student 99: 0.78\n",
      "Student 100: 0.69\n",
      "Student 101: -1.19\n"
     ]
    }
   ],
   "source": [
    "marks = [100, 134, 180, 125, 6, 168, 177, 111, 84, 62, 121, 75, 60, 113, 147, 139, 99, 132, 72, 30, 163, 67, 65, 29, 133, 68, 45, 63, 96, 74, 75, 125, 76, 21, 122, 80, 51, 68, 82, 36, 11, 34, 12, 39, 89, 2, 46, 67, 24, 97, 72, 6, 26, 0, 100, 67, 40, 52, 13, 27, 37, 83, 65, 62, 89, 85, 3, 79, 20, 38, 47, 7, 49, 17, 61, 22, 50, 33, 77, 45, 5, 7, 1, 4, 63, 21, 18, 46, 74, 42, 76, 59, 7, 51, 74, 37, 30, 45, 96, 92, 12]\n",
    "\n",
    "# Calculate mean and standard deviation\n",
    "mean = sum(marks) / len(marks)\n",
    "std_deviation = (sum((x - mean) ** 2 for x in marks) / len(marks)) ** 0.5\n",
    "\n",
    "# Standardize the marks\n",
    "standardized_marks = [(x - mean) / std_deviation for x in marks]\n",
    "\n",
    "# Print the standardized marks\n",
    "for i, mark in enumerate(standardized_marks, 1):\n",
    "    print(f\"Student {i}: {mark:.2f}\")\n"
   ]
  },
  {
   "cell_type": "code",
   "execution_count": 114,
   "id": "6dd7987f",
   "metadata": {},
   "outputs": [
    {
     "data": {
      "image/png": "[encoded data removed]",
      "text/plain": [
       "<Figure size 432x288 with 1 Axes>"
      ]
     },
     "metadata": {
      "needs_background": "light"
     },
     "output_type": "display_data"
    },
    {
     "name": "stdout",
     "output_type": "stream",
     "text": [
      "Five-Number Summary:\n",
      "Minimum: -1.47\n",
      "Q1: -0.77\n",
      "Median: -0.02\n",
      "Q3: 0.52\n",
      "Maximum: 2.75\n"
     ]
    }
   ],
   "source": [
    "import matplotlib.pyplot as plt\n",
    "\n",
    "# Marks data\n",
    "marks = [0.88, 1.67, 2.75, 1.46, -1.33, 2.47, 2.68, 1.13, 0.50, -0.02, 1.37, 0.29, -0.06, 1.18, 1.98, 1.79, 0.85, 1.63, 0.22, -0.77, 2.35, 0.10, 0.06, -0.79, 1.65, 0.13, -0.41, 0.01, 0.78, 0.27, 0.29, 1.46, 0.31, -0.98, 1.39, 0.41, -0.27, 0.13, 0.45, -0.63, -1.21, -0.67, -1.19, -0.55, 0.62, -1.42, -0.39, 0.10, -0.91, 0.81, 0.22, -1.33, -0.86, -1.47, 0.88, 0.10, -0.53, -0.25, -1.16, -0.84, -0.60, 0.48, 0.06, -0.02, 0.62, 0.52, -1.40, 0.38, -1.00, -0.58, -0.37, -1.31, -0.32, -1.07, -0.04, -0.95, -0.30, -0.70, 0.34, -0.41, -1.35, -1.31, -1.45, -1.38, 0.01, -0.98, -1.05, -0.39, 0.27, -0.48, 0.31, -0.09, -1.31, -0.27, 0.27, -0.60, -0.77, -0.41, 0.78, 0.69, -1.19]\n",
    "\n",
    "# Calculate the five-number summary\n",
    "minimum = min(marks)\n",
    "maximum = max(marks)\n",
    "median = sorted(marks)[len(marks) // 2]\n",
    "\n",
    "q1 = sorted(marks)[:len(marks) // 2][len(marks[:len(marks) // 2]) // 2]\n",
    "q3 = sorted(marks)[len(marks) // 2 + 1:][len(marks[len(marks) // 2 + 1:]) // 2]\n",
    "\n",
    "# Create a box plot\n",
    "plt.boxplot(marks)\n",
    "plt.title(\"Box Plot - Student Marks\")\n",
    "plt.ylabel(\"Marks\")\n",
    "plt.show()\n",
    "\n",
    "# Print the five-number summary\n",
    "print(\"Five-Number Summary:\")\n",
    "print(f\"Minimum: {minimum}\")\n",
    "print(f\"Q1: {q1}\")\n",
    "print(f\"Median: {median}\")\n",
    "print(f\"Q3: {q3}\")\n",
    "print(f\"Maximum: {maximum}\")\n"
   ]
  },
  {
   "cell_type": "code",
   "execution_count": null,
   "id": "f68754ac",
   "metadata": {},
   "outputs": [],
   "source": []
  }
 ],
 "metadata": {
  "kernelspec": {
   "display_name": "Python 3 (ipykernel)",
   "language": "python",
   "name": "python3"
  },
  "language_info": {
   "codemirror_mode": {
    "name": "ipython",
    "version": 3
   },
   "file_extension": ".py",
   "mimetype": "text/x-python",
   "name": "python",
   "nbconvert_exporter": "python",
   "pygments_lexer": "ipython3",
   "version": "3.9.7"
  }
 },
 "nbformat": 4,
 "nbformat_minor": 5
}

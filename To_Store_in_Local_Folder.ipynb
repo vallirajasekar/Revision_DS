{
  "nbformat": 4,
  "nbformat_minor": 0,
  "metadata": {
    "colab": {
      "provenance": [],
      "authorship_tag": "ABX9TyNrlNZJKyagaNiClB9sYCyj",
      "include_colab_link": true
    },
    "kernelspec": {
      "name": "python3",
      "display_name": "Python 3"
    },
    "language_info": {
      "name": "python"
    }
  },
  "cells": [
    {
      "cell_type": "markdown",
      "metadata": {
        "id": "view-in-github",
        "colab_type": "text"
      },
      "source": [
        "<a href=\"https://colab.research.google.com/github/vallirajasekar/Revision_DS/blob/main/To_Store_in_Local_Folder.ipynb\" target=\"_parent\"><img src=\"https://colab.research.google.com/assets/colab-badge.svg\" alt=\"Open In Colab\"/></a>"
      ]
    },
    {
      "cell_type": "code",
      "execution_count": 2,
      "metadata": {
        "id": "2kQnoBd-0qC8"
      },
      "outputs": [],
      "source": [
        "#pip install azureml-sdk"
      ]
    },
    {
      "cell_type": "code",
      "source": [
        "from azureml.core import Workspace,Datastore,Dataset"
      ],
      "metadata": {
        "id": "kzFuM9zQ1Df-"
      },
      "execution_count": 3,
      "outputs": []
    },
    {
      "cell_type": "code",
      "source": [
        "ws=Workspace.from_config(path='/content/config (1).json',)"
      ],
      "metadata": {
        "colab": {
          "base_uri": "https://localhost:8080/"
        },
        "id": "QxXjIY5f1EOT",
        "outputId": "f8efee02-220b-432a-f23c-8e9f48f6624d"
      },
      "execution_count": 4,
      "outputs": [
        {
          "output_type": "stream",
          "name": "stdout",
          "text": [
            "Performing interactive authentication. Please follow the instructions on the terminal.\n"
          ]
        },
        {
          "output_type": "stream",
          "name": "stderr",
          "text": [
            "WARNING:azureml._vendor.azure_cli_core.auth.identity:To sign in, use a web browser to open the page https://microsoft.com/devicelogin and enter the code BBA9H5XPY to authenticate.\n"
          ]
        },
        {
          "output_type": "stream",
          "name": "stdout",
          "text": [
            "Interactive authentication successfully completed.\n"
          ]
        }
      ]
    },
    {
      "cell_type": "code",
      "source": [
        "az_dstore=Datastore.get(workspace=ws,datastore_name='azureml_sdk_blob')"
      ],
      "metadata": {
        "id": "kUIixW5o1R6G"
      },
      "execution_count": 5,
      "outputs": []
    },
    {
      "cell_type": "code",
      "source": [
        "az_dataset=Dataset.get_by_name(workspace=ws,name='Churn_Modelling Data SDK')"
      ],
      "metadata": {
        "id": "eZKkOpMY1TsJ"
      },
      "execution_count": 6,
      "outputs": []
    },
    {
      "cell_type": "code",
      "source": [
        "## Local Data to Storage Account"
      ],
      "metadata": {
        "id": "0-ybO4BJ1Zmk"
      },
      "execution_count": 7,
      "outputs": []
    },
    {
      "cell_type": "code",
      "source": [
        "files_list=['/content/Dataset 1.csv','/content/Dataset 2.csv']"
      ],
      "metadata": {
        "id": "N4qagTpG1dWv"
      },
      "execution_count": 8,
      "outputs": []
    },
    {
      "cell_type": "code",
      "source": [
        "#Uploading local files to storage account using the datastore\n",
        "az_dstore.upload_files(files=files_list,target_path='Churn_Data/',overwrite=True)"
      ],
      "metadata": {
        "colab": {
          "base_uri": "https://localhost:8080/"
        },
        "id": "VXGSbVtZ10Np",
        "outputId": "438c5f8e-e434-4362-f2be-5c3a946d354b"
      },
      "execution_count": 9,
      "outputs": [
        {
          "output_type": "stream",
          "name": "stderr",
          "text": [
            "WARNING:azureml.data._dataset_deprecation:\"datastore.upload_files\" is deprecated after version 1.0.69. Please use \"FileDatasetFactory.upload_directory\" instead. See Dataset API change notice at https://aka.ms/dataset-deprecation.\n"
          ]
        },
        {
          "output_type": "stream",
          "name": "stdout",
          "text": [
            "Uploading an estimated of 2 files\n",
            "Uploading /content/Dataset 1.csv\n",
            "Uploaded /content/Dataset 1.csv, 1 files out of an estimated total of 2\n",
            "Uploading /content/Dataset 2.csv\n",
            "Uploaded /content/Dataset 2.csv, 2 files out of an estimated total of 2\n",
            "Uploaded 2 files\n"
          ]
        },
        {
          "output_type": "execute_result",
          "data": {
            "text/plain": [
              "$AZUREML_DATAREFERENCE_0bf8809268484f0ab306f0d904d5e075"
            ]
          },
          "metadata": {},
          "execution_count": 9
        }
      ]
    },
    {
      "cell_type": "code",
      "source": [
        "##Uploading Directory/Folder to Storage account"
      ],
      "metadata": {
        "id": "7ifdHLlK2adE"
      },
      "execution_count": 10,
      "outputs": []
    },
    {
      "cell_type": "code",
      "source": [
        "az_dstore.upload(src_dir='/content/Test_Datasets',target_path='Data',overwrite=True)"
      ],
      "metadata": {
        "colab": {
          "base_uri": "https://localhost:8080/"
        },
        "id": "T0RDFBda2zBL",
        "outputId": "4506c4c3-1060-423b-b42b-9f227533b2c3"
      },
      "execution_count": 11,
      "outputs": [
        {
          "output_type": "stream",
          "name": "stderr",
          "text": [
            "WARNING:azureml.data._dataset_deprecation:\"Datastore.upload\" is deprecated after version 1.0.69. Please use \"Dataset.File.upload_directory\" to upload your files             from a local directory and create FileDataset in single method call. See Dataset API change notice at https://aka.ms/dataset-deprecation.\n"
          ]
        },
        {
          "output_type": "stream",
          "name": "stdout",
          "text": [
            "Uploading an estimated of 2 files\n",
            "Uploading /content/Test_Datasets/Dataset 3.csv\n",
            "Uploaded /content/Test_Datasets/Dataset 3.csv, 1 files out of an estimated total of 2\n",
            "Uploading /content/Test_Datasets/Dataset 4.csv\n",
            "Uploaded /content/Test_Datasets/Dataset 4.csv, 2 files out of an estimated total of 2\n",
            "Uploaded 2 files\n"
          ]
        },
        {
          "output_type": "execute_result",
          "data": {
            "text/plain": [
              "$AZUREML_DATAREFERENCE_6114751710fb4282a01cf17e7d3b9956"
            ]
          },
          "metadata": {},
          "execution_count": 11
        }
      ]
    },
    {
      "cell_type": "code",
      "source": [],
      "metadata": {
        "id": "fz07c8zh3__s"
      },
      "execution_count": null,
      "outputs": []
    }
  ]
}
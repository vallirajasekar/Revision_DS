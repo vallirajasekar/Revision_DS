{
  "nbformat": 4,
  "nbformat_minor": 0,
  "metadata": {
    "colab": {
      "provenance": [],
      "toc_visible": true,
      "authorship_tag": "ABX9TyPvZWefll2nFTbncZ/sOQDN",
      "include_colab_link": true
    },
    "kernelspec": {
      "name": "python3",
      "display_name": "Python 3"
    },
    "language_info": {
      "name": "python"
    }
  },
  "cells": [
    {
      "cell_type": "markdown",
      "metadata": {
        "id": "view-in-github",
        "colab_type": "text"
      },
      "source": [
        "<a href=\"https://colab.research.google.com/github/vallirajasekar/Revision_DS/blob/main/PythonScript_Logistics_Regression_ML.ipynb\" target=\"_parent\"><img src=\"https://colab.research.google.com/assets/colab-badge.svg\" alt=\"Open In Colab\"/></a>"
      ]
    },
    {
      "cell_type": "markdown",
      "source": [
        "# Part_1:Installation and Setup"
      ],
      "metadata": {
        "id": "jejvJflG7CYZ"
      }
    },
    {
      "cell_type": "code",
      "source": [
        "#pip install azureml-sdk"
      ],
      "metadata": {
        "id": "tZDgdk7D7P28"
      },
      "execution_count": 39,
      "outputs": []
    },
    {
      "cell_type": "code",
      "source": [
        "#!pip install --upgrade cryptography\n"
      ],
      "metadata": {
        "id": "WRUjvzI975L5"
      },
      "execution_count": 46,
      "outputs": []
    },
    {
      "cell_type": "code",
      "source": [
        "from azureml.core import Workspace,Datastore,Dataset"
      ],
      "metadata": {
        "id": "xABYLjGW7FIZ"
      },
      "execution_count": 44,
      "outputs": []
    },
    {
      "cell_type": "code",
      "source": [
        "from azureml.core import Workspace,Experiment,Run"
      ],
      "metadata": {
        "id": "VrKqpbPG8GtE"
      },
      "execution_count": 45,
      "outputs": []
    },
    {
      "cell_type": "code",
      "source": [
        "ws=Workspace.from_config(path='/content/config (1).json')"
      ],
      "metadata": {
        "colab": {
          "base_uri": "https://localhost:8080/"
        },
        "id": "DSjS8mDN8i5q",
        "outputId": "d6c66298-57c7-4827-b955-9953cd0d0e6a"
      },
      "execution_count": 47,
      "outputs": [
        {
          "output_type": "stream",
          "name": "stdout",
          "text": [
            "Performing interactive authentication. Please follow the instructions on the terminal.\n"
          ]
        },
        {
          "output_type": "stream",
          "name": "stderr",
          "text": [
            "WARNING:azureml._vendor.azure_cli_core.auth.identity:To sign in, use a web browser to open the page https://microsoft.com/devicelogin and enter the code FQPT9U76T to authenticate.\n"
          ]
        },
        {
          "output_type": "stream",
          "name": "stdout",
          "text": [
            "Interactive authentication successfully completed.\n"
          ]
        }
      ]
    },
    {
      "cell_type": "code",
      "source": [
        "new_run=Run.get_context()"
      ],
      "metadata": {
        "id": "Jz0z8voB_4Yw"
      },
      "execution_count": 48,
      "outputs": []
    },
    {
      "cell_type": "markdown",
      "source": [
        "# Part_2:Data_Processing\n"
      ],
      "metadata": {
        "id": "StRJkxPXwvLU"
      }
    },
    {
      "cell_type": "markdown",
      "source": [
        "## Data Import"
      ],
      "metadata": {
        "id": "qMKRDFiQ5mji"
      }
    },
    {
      "cell_type": "code",
      "source": [],
      "metadata": {
        "id": "ZjhbyEd2wtxw"
      },
      "execution_count": null,
      "outputs": []
    },
    {
      "cell_type": "code",
      "source": [
        "import numpy as np\n",
        "import pandas as pd"
      ],
      "metadata": {
        "id": "eLbF1-eZv823"
      },
      "execution_count": 1,
      "outputs": []
    },
    {
      "cell_type": "code",
      "source": [
        "data_set=pd.read_csv('/content/Churn_Modelling.csv')"
      ],
      "metadata": {
        "id": "xHN7LtwnwDfn"
      },
      "execution_count": 2,
      "outputs": []
    },
    {
      "cell_type": "markdown",
      "source": [
        "## Dealing With Missing_Data"
      ],
      "metadata": {
        "id": "M6wbAFUjwk_P"
      }
    },
    {
      "cell_type": "code",
      "source": [
        "data_set.isnull().values.any()"
      ],
      "metadata": {
        "colab": {
          "base_uri": "https://localhost:8080/"
        },
        "id": "ydysI4NrwqsM",
        "outputId": "b95f8055-becb-456b-b9f8-d1b82532648a"
      },
      "execution_count": 6,
      "outputs": [
        {
          "output_type": "execute_result",
          "data": {
            "text/plain": [
              "False"
            ]
          },
          "metadata": {},
          "execution_count": 6
        }
      ]
    },
    {
      "cell_type": "markdown",
      "source": [
        "## Encoding-categorical-value"
      ],
      "metadata": {
        "id": "5cAX-LATxzJb"
      }
    },
    {
      "cell_type": "code",
      "source": [
        "data_set.drop(['RowNumber','CustomerId','Surname'],axis=1,inplace=True)"
      ],
      "metadata": {
        "id": "sdIV4FMOw6Ce"
      },
      "execution_count": 7,
      "outputs": []
    },
    {
      "cell_type": "code",
      "source": [
        "data_set.select_dtypes(include='object').columns"
      ],
      "metadata": {
        "colab": {
          "base_uri": "https://localhost:8080/"
        },
        "id": "8jSnIpKtyeRd",
        "outputId": "64176618-3160-4185-c236-1ebcbe544f58"
      },
      "execution_count": 10,
      "outputs": [
        {
          "output_type": "execute_result",
          "data": {
            "text/plain": [
              "Index(['Geography', 'Gender'], dtype='object')"
            ]
          },
          "metadata": {},
          "execution_count": 10
        }
      ]
    },
    {
      "cell_type": "code",
      "source": [
        "dataset=pd.get_dummies(data_set,drop_first=True)"
      ],
      "metadata": {
        "id": "P6cn_ZOZyxPP"
      },
      "execution_count": 11,
      "outputs": []
    },
    {
      "cell_type": "markdown",
      "source": [
        "## Train Test Split"
      ],
      "metadata": {
        "id": "U1SKaw4w0Kd_"
      }
    },
    {
      "cell_type": "code",
      "source": [
        "X=dataset.drop(columns='Exited')\n",
        "y=dataset['Exited']"
      ],
      "metadata": {
        "id": "1F271JgH0ODU"
      },
      "execution_count": 14,
      "outputs": []
    },
    {
      "cell_type": "code",
      "source": [
        "from sklearn.model_selection import train_test_split\n",
        "x_test,x_train,y_test,y_train=train_test_split(X,y,test_size=0.2,random_state=0)"
      ],
      "metadata": {
        "id": "2NYE3AUG0oBQ"
      },
      "execution_count": 15,
      "outputs": []
    },
    {
      "cell_type": "markdown",
      "source": [
        "# Part-2: Training the Model"
      ],
      "metadata": {
        "id": "4hoB3LSW1ev-"
      }
    },
    {
      "cell_type": "markdown",
      "source": [
        "## Train Model"
      ],
      "metadata": {
        "id": "Watp3HQF5Kqi"
      }
    },
    {
      "cell_type": "code",
      "source": [
        "from sklearn.linear_model import  LogisticRegression"
      ],
      "metadata": {
        "id": "fk2ll3ej1F1S"
      },
      "execution_count": 16,
      "outputs": []
    },
    {
      "cell_type": "code",
      "source": [
        "classifier=LogisticRegression(random_state=0)"
      ],
      "metadata": {
        "id": "EZroS_um1tiN"
      },
      "execution_count": 17,
      "outputs": []
    },
    {
      "cell_type": "code",
      "source": [
        "classifier.fit(x_train,y_train)"
      ],
      "metadata": {
        "colab": {
          "base_uri": "https://localhost:8080/",
          "height": 75
        },
        "id": "OnwOBCVJ11PY",
        "outputId": "aa6a3152-d3e7-4ee9-cb5b-198799c2cdee"
      },
      "execution_count": 18,
      "outputs": [
        {
          "output_type": "execute_result",
          "data": {
            "text/plain": [
              "LogisticRegression(random_state=0)"
            ],
            "text/html": [
              "<style>#sk-container-id-1 {color: black;background-color: white;}#sk-container-id-1 pre{padding: 0;}#sk-container-id-1 div.sk-toggleable {background-color: white;}#sk-container-id-1 label.sk-toggleable__label {cursor: pointer;display: block;width: 100%;margin-bottom: 0;padding: 0.3em;box-sizing: border-box;text-align: center;}#sk-container-id-1 label.sk-toggleable__label-arrow:before {content: \"▸\";float: left;margin-right: 0.25em;color: #696969;}#sk-container-id-1 label.sk-toggleable__label-arrow:hover:before {color: black;}#sk-container-id-1 div.sk-estimator:hover label.sk-toggleable__label-arrow:before {color: black;}#sk-container-id-1 div.sk-toggleable__content {max-height: 0;max-width: 0;overflow: hidden;text-align: left;background-color: #f0f8ff;}#sk-container-id-1 div.sk-toggleable__content pre {margin: 0.2em;color: black;border-radius: 0.25em;background-color: #f0f8ff;}#sk-container-id-1 input.sk-toggleable__control:checked~div.sk-toggleable__content {max-height: 200px;max-width: 100%;overflow: auto;}#sk-container-id-1 input.sk-toggleable__control:checked~label.sk-toggleable__label-arrow:before {content: \"▾\";}#sk-container-id-1 div.sk-estimator input.sk-toggleable__control:checked~label.sk-toggleable__label {background-color: #d4ebff;}#sk-container-id-1 div.sk-label input.sk-toggleable__control:checked~label.sk-toggleable__label {background-color: #d4ebff;}#sk-container-id-1 input.sk-hidden--visually {border: 0;clip: rect(1px 1px 1px 1px);clip: rect(1px, 1px, 1px, 1px);height: 1px;margin: -1px;overflow: hidden;padding: 0;position: absolute;width: 1px;}#sk-container-id-1 div.sk-estimator {font-family: monospace;background-color: #f0f8ff;border: 1px dotted black;border-radius: 0.25em;box-sizing: border-box;margin-bottom: 0.5em;}#sk-container-id-1 div.sk-estimator:hover {background-color: #d4ebff;}#sk-container-id-1 div.sk-parallel-item::after {content: \"\";width: 100%;border-bottom: 1px solid gray;flex-grow: 1;}#sk-container-id-1 div.sk-label:hover label.sk-toggleable__label {background-color: #d4ebff;}#sk-container-id-1 div.sk-serial::before {content: \"\";position: absolute;border-left: 1px solid gray;box-sizing: border-box;top: 0;bottom: 0;left: 50%;z-index: 0;}#sk-container-id-1 div.sk-serial {display: flex;flex-direction: column;align-items: center;background-color: white;padding-right: 0.2em;padding-left: 0.2em;position: relative;}#sk-container-id-1 div.sk-item {position: relative;z-index: 1;}#sk-container-id-1 div.sk-parallel {display: flex;align-items: stretch;justify-content: center;background-color: white;position: relative;}#sk-container-id-1 div.sk-item::before, #sk-container-id-1 div.sk-parallel-item::before {content: \"\";position: absolute;border-left: 1px solid gray;box-sizing: border-box;top: 0;bottom: 0;left: 50%;z-index: -1;}#sk-container-id-1 div.sk-parallel-item {display: flex;flex-direction: column;z-index: 1;position: relative;background-color: white;}#sk-container-id-1 div.sk-parallel-item:first-child::after {align-self: flex-end;width: 50%;}#sk-container-id-1 div.sk-parallel-item:last-child::after {align-self: flex-start;width: 50%;}#sk-container-id-1 div.sk-parallel-item:only-child::after {width: 0;}#sk-container-id-1 div.sk-dashed-wrapped {border: 1px dashed gray;margin: 0 0.4em 0.5em 0.4em;box-sizing: border-box;padding-bottom: 0.4em;background-color: white;}#sk-container-id-1 div.sk-label label {font-family: monospace;font-weight: bold;display: inline-block;line-height: 1.2em;}#sk-container-id-1 div.sk-label-container {text-align: center;}#sk-container-id-1 div.sk-container {/* jupyter's `normalize.less` sets `[hidden] { display: none; }` but bootstrap.min.css set `[hidden] { display: none !important; }` so we also need the `!important` here to be able to override the default hidden behavior on the sphinx rendered scikit-learn.org. See: https://github.com/scikit-learn/scikit-learn/issues/21755 */display: inline-block !important;position: relative;}#sk-container-id-1 div.sk-text-repr-fallback {display: none;}</style><div id=\"sk-container-id-1\" class=\"sk-top-container\"><div class=\"sk-text-repr-fallback\"><pre>LogisticRegression(random_state=0)</pre><b>In a Jupyter environment, please rerun this cell to show the HTML representation or trust the notebook. <br />On GitHub, the HTML representation is unable to render, please try loading this page with nbviewer.org.</b></div><div class=\"sk-container\" hidden><div class=\"sk-item\"><div class=\"sk-estimator sk-toggleable\"><input class=\"sk-toggleable__control sk-hidden--visually\" id=\"sk-estimator-id-1\" type=\"checkbox\" checked><label for=\"sk-estimator-id-1\" class=\"sk-toggleable__label sk-toggleable__label-arrow\">LogisticRegression</label><div class=\"sk-toggleable__content\"><pre>LogisticRegression(random_state=0)</pre></div></div></div></div></div>"
            ]
          },
          "metadata": {},
          "execution_count": 18
        }
      ]
    },
    {
      "cell_type": "code",
      "source": [
        "## Predicting the Result"
      ],
      "metadata": {
        "id": "F_ntaxZn18bi"
      },
      "execution_count": 19,
      "outputs": []
    },
    {
      "cell_type": "code",
      "source": [
        "y_pred=classifier.predict(x_test)"
      ],
      "metadata": {
        "id": "3M0689vt18lk"
      },
      "execution_count": 20,
      "outputs": []
    },
    {
      "cell_type": "code",
      "source": [
        "y_prob=classifier.predict_proba(x_test)[:,1]"
      ],
      "metadata": {
        "id": "zJA_zFD02TaF"
      },
      "execution_count": 25,
      "outputs": []
    },
    {
      "cell_type": "markdown",
      "source": [
        "## Evaluation"
      ],
      "metadata": {
        "id": "FQGfF1792wN5"
      }
    },
    {
      "cell_type": "markdown",
      "source": [
        "## Part 4: Logging the Values in Experiment run"
      ],
      "metadata": {
        "id": "1KAMIlpxBowW"
      }
    },
    {
      "cell_type": "code",
      "source": [],
      "metadata": {
        "id": "KoCA2ga9Bm1M"
      },
      "execution_count": null,
      "outputs": []
    },
    {
      "cell_type": "code",
      "source": [
        "from sklearn.metrics import confusion_matrix,accuracy_score"
      ],
      "metadata": {
        "id": "QlBPpiFm2zPL"
      },
      "execution_count": 28,
      "outputs": []
    },
    {
      "cell_type": "code",
      "source": [
        "cm=confusion_matrix(y_test,y_pred)\n",
        "acc=accuracy_score(y_test,y_pred)"
      ],
      "metadata": {
        "id": "KzhXZDwU3A4A"
      },
      "execution_count": 29,
      "outputs": []
    },
    {
      "cell_type": "code",
      "source": [
        "new_run.log('confusion_matrix',cm)\n",
        "new_run.log('Accuracy Score',acc)"
      ],
      "metadata": {
        "colab": {
          "base_uri": "https://localhost:8080/"
        },
        "id": "6TykD6pKBu6O",
        "outputId": "3b14ca93-0c55-4a3f-dcf6-db5fa82f6364"
      },
      "execution_count": 50,
      "outputs": [
        {
          "output_type": "stream",
          "name": "stdout",
          "text": [
            "Attempted to log scalar metric confusion_matrix:\n",
            "[[6236  132]\n",
            " [1543   89]]\n",
            "Attempted to log scalar metric Accuracy Score:\n",
            "0.790625\n"
          ]
        }
      ]
    },
    {
      "cell_type": "markdown",
      "source": [
        "#\n",
        "\n",
        "```\n",
        "# This is formatted as code\n",
        "```\n",
        "\n",
        "Part-3: Creating the Final Dataset with Predicted values and Probabilities"
      ],
      "metadata": {
        "id": "Ny6WJh304GC0"
      }
    },
    {
      "cell_type": "markdown",
      "source": [
        "# Part 5 : creating Final Dataset with Predicted values and Probabilities"
      ],
      "metadata": {
        "id": "l176sK6XBxZl"
      }
    },
    {
      "cell_type": "code",
      "source": [
        "x_test=x_test.reset_index(drop=True)\n",
        "y_test=y_test.reset_index(drop=True)\n",
        "\n",
        "y_prob_df=pd.DataFrame(y_prob,columns=['scored probabilities'])\n",
        "y_pred_df=pd.DataFrame(y_pred,columns=['scored Labels'])"
      ],
      "metadata": {
        "id": "5xoHQ9G23Xuv"
      },
      "execution_count": 31,
      "outputs": []
    },
    {
      "cell_type": "code",
      "source": [
        "scored_dataset=pd.concat([x_test,y_test,y_pred_df,y_prob_df],axis=1)"
      ],
      "metadata": {
        "id": "IWp05OYs56Oh"
      },
      "execution_count": 32,
      "outputs": []
    },
    {
      "cell_type": "code",
      "source": [
        "import os\n",
        "import pandas as pd\n",
        "\n",
        "# Create the directory if it doesn't exist\n",
        "output_dir = './outputs'\n",
        "os.makedirs(output_dir, exist_ok=True)\n",
        "\n",
        "# Save the DataFrame to CSV\n",
        "scored_dataset.to_csv('./outputs/Churn_scored.csv', index=False)\n"
      ],
      "metadata": {
        "id": "wu2EyPVLCiY_"
      },
      "execution_count": 52,
      "outputs": []
    },
    {
      "cell_type": "code",
      "source": [
        "new_run.complete()"
      ],
      "metadata": {
        "id": "jzGYnThu6Wqh"
      },
      "execution_count": 53,
      "outputs": []
    }
  ]
}
{
  "nbformat": 4,
  "nbformat_minor": 0,
  "metadata": {
    "colab": {
      "provenance": [],
      "authorship_tag": "ABX9TyM/MinzjYPVazP9xzNE1ks/",
      "include_colab_link": true
    },
    "kernelspec": {
      "name": "python3",
      "display_name": "Python 3"
    },
    "language_info": {
      "name": "python"
    }
  },
  "cells": [
    {
      "cell_type": "markdown",
      "metadata": {
        "id": "view-in-github",
        "colab_type": "text"
      },
      "source": [
        "<a href=\"https://colab.research.google.com/github/vallirajasekar/Revision_DS/blob/main/Running_the_Script_in_Azure_ML.ipynb\" target=\"_parent\"><img src=\"https://colab.research.google.com/assets/colab-badge.svg\" alt=\"Open In Colab\"/></a>"
      ]
    },
    {
      "cell_type": "code",
      "execution_count": 3,
      "metadata": {
        "id": "HJy2TRCPHZ_X"
      },
      "outputs": [],
      "source": [
        "#pip install azureml-sdk"
      ]
    },
    {
      "cell_type": "code",
      "source": [
        "from azureml.core import Workspace,Datastore,Dataset"
      ],
      "metadata": {
        "id": "IIt_77s_Hg_k"
      },
      "execution_count": 4,
      "outputs": []
    },
    {
      "cell_type": "code",
      "source": [
        "ws=Workspace.from_config(path='/content/config (1).json')"
      ],
      "metadata": {
        "colab": {
          "base_uri": "https://localhost:8080/"
        },
        "id": "5A-RMGsCHruA",
        "outputId": "0afc61d8-09f7-4789-a9e0-df728225f1a3"
      },
      "execution_count": 5,
      "outputs": [
        {
          "output_type": "stream",
          "name": "stdout",
          "text": [
            "Performing interactive authentication. Please follow the instructions on the terminal.\n"
          ]
        },
        {
          "output_type": "stream",
          "name": "stderr",
          "text": [
            "WARNING:azureml._vendor.azure_cli_core.auth.identity:To sign in, use a web browser to open the page https://microsoft.com/devicelogin and enter the code LAUZMKNJP to authenticate.\n"
          ]
        },
        {
          "output_type": "stream",
          "name": "stdout",
          "text": [
            "Interactive authentication successfully completed.\n"
          ]
        }
      ]
    },
    {
      "cell_type": "code",
      "source": [
        "from azureml.core import Experiment"
      ],
      "metadata": {
        "id": "1k8aLo_QTVTe"
      },
      "execution_count": 7,
      "outputs": []
    },
    {
      "cell_type": "code",
      "source": [
        "experiment=Experiment(workspace=ws,name='Churn_Script')"
      ],
      "metadata": {
        "id": "N1Q6OHJxTVWr"
      },
      "execution_count": 8,
      "outputs": []
    },
    {
      "cell_type": "code",
      "source": [
        "from azureml.core import Environment"
      ],
      "metadata": {
        "id": "uEoqms_gTVcO"
      },
      "execution_count": 9,
      "outputs": []
    },
    {
      "cell_type": "code",
      "source": [
        "myenv=Environment(name='user-managed-environment')\n",
        "myenv.python.user_managed_dependencies=True"
      ],
      "metadata": {
        "id": "_ar4TS0GTVfh"
      },
      "execution_count": 10,
      "outputs": []
    },
    {
      "cell_type": "code",
      "source": [
        "from azureml.core import ScriptRunConfig"
      ],
      "metadata": {
        "id": "YRkO9hKNTVly"
      },
      "execution_count": 11,
      "outputs": []
    },
    {
      "cell_type": "code",
      "source": [
        "##Accessing the datastore"
      ],
      "metadata": {
        "id": "UhlbNcQWIG8L"
      },
      "execution_count": 4,
      "outputs": []
    },
    {
      "cell_type": "code",
      "source": [
        "script_config=ScriptRunConfig(source_directory='',script='/content/python_script_1.py',environment=myenv)"
      ],
      "metadata": {
        "id": "TmZ8-1E5VWNk"
      },
      "execution_count": 12,
      "outputs": []
    },
    {
      "cell_type": "code",
      "source": [
        "new_run=experiment.submit(config=script_config)"
      ],
      "metadata": {
        "id": "8kSYOHQpYhPc"
      },
      "execution_count": 13,
      "outputs": []
    },
    {
      "cell_type": "code",
      "source": [],
      "metadata": {
        "id": "RNgqpPGoVWQZ"
      },
      "execution_count": null,
      "outputs": []
    },
    {
      "cell_type": "code",
      "source": [],
      "metadata": {
        "id": "Fw3obBzjVWSv"
      },
      "execution_count": null,
      "outputs": []
    },
    {
      "cell_type": "code",
      "source": [],
      "metadata": {
        "id": "qXV4T8DZVWVY"
      },
      "execution_count": null,
      "outputs": []
    }
  ]
}